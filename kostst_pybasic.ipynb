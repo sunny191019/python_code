{
 "cells": [
  {
   "cell_type": "markdown",
   "id": "64d6080d",
   "metadata": {},
   "source": [
    "## 통계교육원 - 파이썬 데이터분석 (초급)\n",
    "* 실습내용 및 code정리\n",
    "* 1차시~ 13차시\n",
    "* [수업링크](https://sti.kostat.go.kr/coresti/site/edu/edu_ulearn/list.do?gmenu=3&rmenu=01&cmenu=010402)"
   ]
  },
  {
   "cell_type": "code",
   "execution_count": 5,
   "id": "f13a6351",
   "metadata": {},
   "outputs": [
    {
     "name": "stdout",
     "output_type": "stream",
     "text": [
      "1111\n",
      "안녕하세요\n",
      "345\n"
     ]
    }
   ],
   "source": [
    "print(1111, \"안녕하세요\", 345,sep='\\n')"
   ]
  },
  {
   "cell_type": "code",
   "execution_count": 6,
   "id": "5571d61d",
   "metadata": {},
   "outputs": [
    {
     "name": "stdout",
     "output_type": "stream",
     "text": [
      "3\n"
     ]
    }
   ],
   "source": [
    "a = 1\n",
    "b = 2\n",
    "\n",
    "print(a+ \\\n",
    "b)"
   ]
  },
  {
   "cell_type": "code",
   "execution_count": 11,
   "id": "743f7ce8",
   "metadata": {},
   "outputs": [
    {
     "name": "stdout",
     "output_type": "stream",
     "text": [
      "화씨 온도 : 100\n",
      "화씨온도: 100는 섭씨온도: 37.778입니다.\n"
     ]
    }
   ],
   "source": [
    "# 화씨 온도 계산기\n",
    "\n",
    "user = int(input('화씨 온도 : '))\n",
    "\n",
    "print(f'화씨온도: {user}는 섭씨온도: {round((user-32)*5/9, 3)}입니다.')"
   ]
  },
  {
   "cell_type": "code",
   "execution_count": 15,
   "id": "1d63dd3d",
   "metadata": {},
   "outputs": [
    {
     "name": "stdout",
     "output_type": "stream",
     "text": [
      "몸무게를 입력하여 주세요: 54.3\n",
      "키를 입력하여 주세요: 1.64\n",
      "당신의 BMI지수는 20.19 입니다.\n"
     ]
    }
   ],
   "source": [
    "# BMI 계산기\n",
    "\n",
    "w = float(input('몸무게를 입력하여 주세요: '))\n",
    "h = float(input('키를 입력하여 주세요: '))\n",
    "\n",
    "print(f'당신의 BMI지수는 {round(w/(h*h), 2)} 입니다.')"
   ]
  },
  {
   "cell_type": "code",
   "execution_count": 17,
   "id": "ef5ae3d2",
   "metadata": {},
   "outputs": [
    {
     "name": "stdout",
     "output_type": "stream",
     "text": [
      "전년도 수익: 1000000\n",
      "올해 수익: 2500000\n",
      "증감률은 150.0% 입니다\n"
     ]
    }
   ],
   "source": [
    "# 전년대베 증감률\n",
    "\n",
    "standard = int(input('전년도 수익: '))\n",
    "this_year = int(input('올해 수익: '))\n",
    "\n",
    "print(f'증감률은 {((this_year - standard)/standard)*100}% 입니다')"
   ]
  },
  {
   "cell_type": "code",
   "execution_count": 18,
   "id": "990001d3",
   "metadata": {},
   "outputs": [
    {
     "name": "stdout",
     "output_type": "stream",
     "text": [
      "['안녕하세요.', '파이썬', '데이터', '분석', '과정', '학습자님.', '이번', '회차도', '수고하셨습니다.']\n"
     ]
    }
   ],
   "source": [
    "data = '안녕하세요. 파이썬 데이터 분석 과정 학습자님. 이번 회차도 수고하셨습니다.'\n",
    "\n",
    "print(data.split(' '))"
   ]
  },
  {
   "cell_type": "code",
   "execution_count": 19,
   "id": "47279178",
   "metadata": {},
   "outputs": [
    {
     "name": "stdout",
     "output_type": "stream",
     "text": [
      "파이썬\n"
     ]
    }
   ],
   "source": [
    "print(data[7:10])"
   ]
  },
  {
   "cell_type": "code",
   "execution_count": 21,
   "id": "22cd2d50",
   "metadata": {},
   "outputs": [
    {
     "name": "stdout",
     "output_type": "stream",
     "text": [
      "파이썬\n"
     ]
    }
   ],
   "source": [
    "print(data[data.find('파'):data.find('썬')+1] )"
   ]
  },
  {
   "cell_type": "code",
   "execution_count": 27,
   "id": "9d8a3f42",
   "metadata": {},
   "outputs": [
    {
     "name": "stdout",
     "output_type": "stream",
     "text": [
      "아름다운 게 추한 것보다 낫다. (Beautiful is better than ugly),명시적인 것이 암시적인 것 보다 낫다. (Explicit is better than implicit)\n"
     ]
    }
   ],
   "source": [
    "data = '''\"아름다운 게 추한 것보다 낫다.\" (Beautiful is better than ugly)\n",
    "\"명시적인 것이 암시적인 것 보다 낫다.\" (Explicit is better than implicit)'''\n",
    "\n",
    "data_2 = data.replace('\"', '')\n",
    "print(data_2.replace('\\n', ','))"
   ]
  },
  {
   "cell_type": "code",
   "execution_count": null,
   "id": "d1343930",
   "metadata": {},
   "outputs": [],
   "source": [
    "L = list #내장함수 보기 ''.+tab'"
   ]
  },
  {
   "cell_type": "code",
   "execution_count": 28,
   "id": "8ada0148",
   "metadata": {},
   "outputs": [
    {
     "ename": "AttributeError",
     "evalue": "'tuple' object has no attribute 'insert'",
     "output_type": "error",
     "traceback": [
      "\u001b[1;31m---------------------------------------------------------------------------\u001b[0m",
      "\u001b[1;31mAttributeError\u001b[0m                            Traceback (most recent call last)",
      "\u001b[1;32m<ipython-input-28-a8d01cdf9af3>\u001b[0m in \u001b[0;36m<module>\u001b[1;34m\u001b[0m\n\u001b[0;32m      1\u001b[0m \u001b[0mt\u001b[0m \u001b[1;33m=\u001b[0m \u001b[1;33m(\u001b[0m\u001b[1;36m1\u001b[0m\u001b[1;33m,\u001b[0m\u001b[1;36m2\u001b[0m\u001b[1;33m,\u001b[0m\u001b[1;36m3\u001b[0m\u001b[1;33m,\u001b[0m\u001b[1;36m4\u001b[0m\u001b[1;33m,\u001b[0m\u001b[1;36m5\u001b[0m\u001b[1;33m,\u001b[0m\u001b[1;36m6\u001b[0m\u001b[1;33m,\u001b[0m\u001b[1;36m7\u001b[0m\u001b[1;33m,\u001b[0m\u001b[1;36m8\u001b[0m\u001b[1;33m)\u001b[0m\u001b[1;33m\u001b[0m\u001b[1;33m\u001b[0m\u001b[0m\n\u001b[1;32m----> 2\u001b[1;33m \u001b[0mprint\u001b[0m\u001b[1;33m(\u001b[0m\u001b[0mt\u001b[0m\u001b[1;33m.\u001b[0m\u001b[0minsert\u001b[0m\u001b[1;33m(\u001b[0m\u001b[1;36m9\u001b[0m\u001b[1;33m)\u001b[0m\u001b[1;33m)\u001b[0m\u001b[1;33m\u001b[0m\u001b[1;33m\u001b[0m\u001b[0m\n\u001b[0m",
      "\u001b[1;31mAttributeError\u001b[0m: 'tuple' object has no attribute 'insert'"
     ]
    }
   ],
   "source": [
    "t = (1,2,3,4,5,6,7,8)\n",
    "print(t.insert(9))"
   ]
  },
  {
   "cell_type": "code",
   "execution_count": 31,
   "id": "987bb9c4",
   "metadata": {},
   "outputs": [
    {
     "name": "stdout",
     "output_type": "stream",
     "text": [
      "[0, 2, 3, 4, 5, 6, 7, 9]\n"
     ]
    }
   ],
   "source": [
    "T = list(t)\n",
    "T[0] = 0\n",
    "T.append(9)\n",
    "T.remove(8)\n",
    "\n",
    "print(T)"
   ]
  },
  {
   "cell_type": "code",
   "execution_count": 32,
   "id": "9d2e343d",
   "metadata": {},
   "outputs": [],
   "source": [
    "dic1 = {'a':1, 'b':2, 'c':3}\n",
    "dic2 = {'b':5, 'c':1, 'd':7}"
   ]
  },
  {
   "cell_type": "code",
   "execution_count": 35,
   "id": "94357942",
   "metadata": {},
   "outputs": [
    {
     "name": "stdout",
     "output_type": "stream",
     "text": [
      "{'a': 1, 'b': 5, 'c': 1, 'd': 7}\n"
     ]
    }
   ],
   "source": [
    "dic1.update(dic2)\n",
    "print(dic1)"
   ]
  },
  {
   "cell_type": "code",
   "execution_count": 36,
   "id": "6e4bbfea",
   "metadata": {},
   "outputs": [
    {
     "name": "stdout",
     "output_type": "stream",
     "text": [
      "{'b': 5, 'c': 1, 'd': 7, 'a': 1}\n"
     ]
    }
   ],
   "source": [
    "dic2.update(dic1)\n",
    "print(dic2)"
   ]
  },
  {
   "cell_type": "code",
   "execution_count": 44,
   "id": "e0bbeac4",
   "metadata": {},
   "outputs": [],
   "source": [
    "data = [['1번','홍길동'],['2번', '이길동'],['4번','박길동'],['5번','최길동']]"
   ]
  },
  {
   "cell_type": "code",
   "execution_count": 37,
   "id": "9412a391",
   "metadata": {},
   "outputs": [
    {
     "ename": "TypeError",
     "evalue": "'str' object does not support item assignment",
     "output_type": "error",
     "traceback": [
      "\u001b[1;31m---------------------------------------------------------------------------\u001b[0m",
      "\u001b[1;31mTypeError\u001b[0m                                 Traceback (most recent call last)",
      "\u001b[1;32m<ipython-input-37-8205f779bd04>\u001b[0m in \u001b[0;36m<module>\u001b[1;34m\u001b[0m\n\u001b[1;32m----> 1\u001b[1;33m \u001b[0mdata\u001b[0m\u001b[1;33m[\u001b[0m\u001b[1;36m2\u001b[0m\u001b[1;33m]\u001b[0m \u001b[1;33m=\u001b[0m \u001b[1;33m[\u001b[0m\u001b[1;34m'3번'\u001b[0m\u001b[1;33m,\u001b[0m \u001b[1;34m'김길동'\u001b[0m\u001b[1;33m]\u001b[0m\u001b[1;33m\u001b[0m\u001b[1;33m\u001b[0m\u001b[0m\n\u001b[0m\u001b[0;32m      2\u001b[0m \u001b[1;33m\u001b[0m\u001b[0m\n\u001b[0;32m      3\u001b[0m \u001b[0mprint\u001b[0m\u001b[1;33m(\u001b[0m\u001b[0mdata\u001b[0m\u001b[1;33m)\u001b[0m\u001b[1;33m\u001b[0m\u001b[1;33m\u001b[0m\u001b[0m\n",
      "\u001b[1;31mTypeError\u001b[0m: 'str' object does not support item assignment"
     ]
    }
   ],
   "source": [
    "data[2] = ['3번', '김길동']\n",
    "\n",
    "print(data)"
   ]
  },
  {
   "cell_type": "code",
   "execution_count": 45,
   "id": "4d720ef1",
   "metadata": {},
   "outputs": [
    {
     "name": "stdout",
     "output_type": "stream",
     "text": [
      "[['1번', '홍길동'], ['2번', '이길동'], ['3번', '김길동'], ['4번', '박길동'], ['5번', '최길동']]\n"
     ]
    }
   ],
   "source": [
    "data.insert(2, ['3번','김길동'])\n",
    "print(data)"
   ]
  },
  {
   "cell_type": "code",
   "execution_count": 46,
   "id": "8eb73971",
   "metadata": {},
   "outputs": [
    {
     "name": "stdout",
     "output_type": "stream",
     "text": [
      "[['1번', '홍길동'], ['2번', '이길동'], ['3번', '김길동'], ['4번', '박길동'], ['6번', '최길동']]\n"
     ]
    }
   ],
   "source": [
    "data[4][0] = '6번'\n",
    "\n",
    "print(data)"
   ]
  },
  {
   "cell_type": "code",
   "execution_count": 48,
   "id": "915ead74",
   "metadata": {},
   "outputs": [
    {
     "name": "stdout",
     "output_type": "stream",
     "text": [
      "[['1번', '홍길동'], ['2번', '이길동'], ['3번', '김길동'], ['4번', '박길동'], ['5번', '고길동'], ['5번', '고길동'], ['6번', '최길동']]\n"
     ]
    }
   ],
   "source": [
    "data.insert(4, ['5번', '고길동'])\n",
    "print(data)"
   ]
  },
  {
   "cell_type": "code",
   "execution_count": 55,
   "id": "4027ea39",
   "metadata": {},
   "outputs": [
    {
     "name": "stdout",
     "output_type": "stream",
     "text": [
      "점수는?90\n"
     ]
    }
   ],
   "source": [
    "score = int(input('점수는?'))\n",
    "\n",
    "if score > 90 :\n",
    "    print(\"참 잘했어요.\")\n",
    "if score < 90 :\n",
    "    print(\"보통이예요.\")"
   ]
  },
  {
   "cell_type": "code",
   "execution_count": 58,
   "id": "c4f489f1",
   "metadata": {},
   "outputs": [
    {
     "name": "stdout",
     "output_type": "stream",
     "text": [
      "점수는?90\n",
      "보통이예요.\n"
     ]
    }
   ],
   "source": [
    "score = int(input('점수는?'))\n",
    "\n",
    "if score > 90 :\n",
    "    print(\"참 잘했어요.\")\n",
    "else:\n",
    "    print(\"보통이예요.\")"
   ]
  },
  {
   "cell_type": "code",
   "execution_count": 65,
   "id": "5dadc913",
   "metadata": {},
   "outputs": [
    {
     "name": "stdout",
     "output_type": "stream",
     "text": [
      "나이를 입력하세요:15\n",
      "부모님 동행여부를 알려주세요. 1:동행, 0:미동행:1\n",
      "관람이 가능합니다.\n"
     ]
    }
   ],
   "source": [
    "age = int(input('나이를 입력하세요:'))\n",
    "parent = int(input('부모님 동행여부를 알려주세요. 1:동행, 0:미동행:'))\n",
    "\n",
    "if age >= 19 :\n",
    "    print('관람이 가능합니다.')\n",
    "elif age < 19 and parent == 1 : \n",
    "    print('관람이 가능합니다.')\n",
    "else:\n",
    "    print ('관람이 불가합니다.')\n"
   ]
  },
  {
   "cell_type": "code",
   "execution_count": 66,
   "id": "51238f4d",
   "metadata": {},
   "outputs": [
    {
     "name": "stdout",
     "output_type": "stream",
     "text": [
      "a는 양수 입니다.\n"
     ]
    }
   ],
   "source": [
    "a =1\n",
    "if a>0:\n",
    "    msg = 'a는 양수 입니다.'\n",
    "else:\n",
    "    msg = 'a는 0 또는 음수 입니다'\n",
    "\n",
    "print(msg)"
   ]
  },
  {
   "cell_type": "code",
   "execution_count": 68,
   "id": "8a68fffc",
   "metadata": {},
   "outputs": [
    {
     "name": "stdout",
     "output_type": "stream",
     "text": [
      "a는 0 또는 음수입니다.\n"
     ]
    }
   ],
   "source": [
    "a = -2\n",
    "msg = \"a는 양수입니다\" if a>0 else \"a는 0 또는 음수입니다.\"\n",
    "\n",
    "print(msg)"
   ]
  },
  {
   "cell_type": "code",
   "execution_count": 72,
   "id": "3b6f66df",
   "metadata": {},
   "outputs": [
    {
     "name": "stdout",
     "output_type": "stream",
     "text": [
      "1,2,3,4,1-1,2,3,4,2-1,2,3,4,3-1,2,3,4,4-"
     ]
    }
   ],
   "source": [
    "for i in [1,2,3,4]:\n",
    "    for j in [1,2,3,4]:\n",
    "        print(j, end=',')\n",
    "    print(i, end='-')"
   ]
  },
  {
   "cell_type": "code",
   "execution_count": 73,
   "id": "5a1cec48",
   "metadata": {},
   "outputs": [
    {
     "name": "stdout",
     "output_type": "stream",
     "text": [
      "1 2\n",
      "3 4\n",
      "5 6\n"
     ]
    }
   ],
   "source": [
    "l = [[1,2], [3,4], [5,6]]\n",
    "\n",
    "for i,j in l:\n",
    "    print(i,j)"
   ]
  },
  {
   "cell_type": "code",
   "execution_count": 74,
   "id": "ac485e74",
   "metadata": {},
   "outputs": [
    {
     "name": "stdout",
     "output_type": "stream",
     "text": [
      "[1, 2]\n",
      "[3, 4]\n",
      "[5, 6]\n"
     ]
    }
   ],
   "source": [
    "for i in l:\n",
    "    print(i)"
   ]
  },
  {
   "cell_type": "code",
   "execution_count": 75,
   "id": "e42ca129",
   "metadata": {},
   "outputs": [
    {
     "name": "stdout",
     "output_type": "stream",
     "text": [
      "3\n",
      "7\n",
      "11\n"
     ]
    }
   ],
   "source": [
    "for i, j in l:\n",
    "    print(i+j)"
   ]
  },
  {
   "cell_type": "code",
   "execution_count": 78,
   "id": "c856fad5",
   "metadata": {},
   "outputs": [
    {
     "name": "stdout",
     "output_type": "stream",
     "text": [
      "i is l\n",
      "i is l\n",
      "5\n"
     ]
    }
   ],
   "source": [
    "s = \"hello\"\n",
    "cnt = 0\n",
    "\n",
    "for i in s:\n",
    "    if(i == 'l'):\n",
    "        print(\"i is l\")\n",
    "    cnt += 1\n",
    "print(cnt)"
   ]
  },
  {
   "cell_type": "code",
   "execution_count": 80,
   "id": "af2b4db9",
   "metadata": {},
   "outputs": [
    {
     "name": "stdout",
     "output_type": "stream",
     "text": [
      "i is e\n",
      "4\n"
     ]
    }
   ],
   "source": [
    "s = \"hello\"\n",
    "cnt = 0\n",
    "\n",
    "for i in s:\n",
    "    if(i == 'e'):\n",
    "        print(\"i is e\")\n",
    "        continue # 한 차례 건너뛰기 가능( 'ㅣ') 이면 두번 건너뜀\n",
    "    cnt += 1\n",
    "print(cnt)"
   ]
  },
  {
   "cell_type": "code",
   "execution_count": 83,
   "id": "fc795b29",
   "metadata": {},
   "outputs": [
    {
     "name": "stdout",
     "output_type": "stream",
     "text": [
      "5\n",
      "4\n",
      "3\n",
      "2\n",
      "1\n"
     ]
    }
   ],
   "source": [
    "num = 5 \n",
    "while (num > 0):\n",
    "    print(num)\n",
    "    num -= 1"
   ]
  },
  {
   "cell_type": "code",
   "execution_count": 3,
   "id": "fc51c531",
   "metadata": {},
   "outputs": [
    {
     "name": "stdout",
     "output_type": "stream",
     "text": [
      "[1, 2, 3, 4, 5, 6, 7, 8, 9, 10, 11, 12, 13, 14, 15, 16, 17, 18, 19, 20, 21, 22, 23, 24, 25, 26, 27, 28, 29, 30, 31, 32, 33, 34, 35, 36, 37, 38, 39, 40, 41, 42, 43, 44, 45, 46, 47, 48, 49, 50, 51, 52, 53, 54, 55, 56, 57, 58, 59, 60, 61, 62, 63, 64, 65, 66, 67, 68, 69, 70, 71, 72, 73, 74, 75, 76, 77, 78, 79, 80, 81, 82, 83, 84, 85, 86, 87, 88, 89, 90, 91, 92, 93, 94, 95, 96, 97, 98, 99, 100] "
     ]
    }
   ],
   "source": [
    "nums = []\n",
    "for i in range(1,101):\n",
    "    nums.append(i)\n",
    "print(nums, end=' ')"
   ]
  },
  {
   "cell_type": "code",
   "execution_count": 8,
   "id": "a81e06e9",
   "metadata": {},
   "outputs": [
    {
     "name": "stdout",
     "output_type": "stream",
     "text": [
      "[1, 3, 5, 7, 9, 11, 13, 15, 17, 19, 21, 23, 25, 27, 29, 31, 33, 35, 37, 39, 41, 43, 45, 47, 49, 51, 53, 55, 57, 59, 61, 63, 65, 67, 69, 71, 73, 75, 77, 79, 81, 83, 85, 87, 89, 91, 93, 95, 97, 99] "
     ]
    }
   ],
   "source": [
    "data = []\n",
    "for n in range(1,101):\n",
    "    if n % 2 == 1:\n",
    "        data.append(n)\n",
    "\n",
    "print(data, end=' ')"
   ]
  },
  {
   "cell_type": "code",
   "execution_count": 9,
   "id": "245edcb9",
   "metadata": {},
   "outputs": [
    {
     "name": "stdout",
     "output_type": "stream",
     "text": [
      "[1, 3, 5, 7, 9, 11, 13, 15, 17, 19, 21, 23, 25, 27, 29, 31, 33, 35, 37, 39, 41, 43, 45, 47, 49, 51, 53, 55, 57, 59, 61, 63, 65, 67, 69, 71, 73, 75, 77, 79, 81, 83, 85, 87, 89, 91, 93, 95, 97, 99]\n"
     ]
    }
   ],
   "source": [
    "data_2 = []\n",
    "for i in range(1,101,2):\n",
    "    data_2.append(i)\n",
    "print(data_2)"
   ]
  },
  {
   "cell_type": "code",
   "execution_count": 10,
   "id": "6bf9021c",
   "metadata": {},
   "outputs": [
    {
     "name": "stdout",
     "output_type": "stream",
     "text": [
      "아름다운 게 추한 것보다 낫다. Beautiful is better than ugly\n",
      "명시적인 것이 암시적인 것 보다 낫다. Explicit is better than implicit\n"
     ]
    }
   ],
   "source": [
    "data = '''\"아름다운 게 추한 것보다 낫다.\" (Beautiful is better than ugly)\n",
    "\"명시적인 것이 암시적인 것 보다 낫다.\" (Explicit is better than implicit)'''\n",
    "\n",
    "data = data.replace('\"','').replace('(','').replace(')','')\n",
    "print(data)"
   ]
  },
  {
   "cell_type": "code",
   "execution_count": 11,
   "id": "bebe1980",
   "metadata": {},
   "outputs": [
    {
     "name": "stdout",
     "output_type": "stream",
     "text": [
      "['아름다운 게 추한 것보다 낫다. Beautiful is better than ugly', '명시적인 것이 암시적인 것 보다 낫다. Explicit is better than implicit']\n"
     ]
    }
   ],
   "source": [
    "data = data.split('\\n')\n",
    "print(data)"
   ]
  },
  {
   "cell_type": "code",
   "execution_count": 12,
   "id": "1de4e768",
   "metadata": {},
   "outputs": [
    {
     "name": "stdout",
     "output_type": "stream",
     "text": [
      "['아름다운 게 추한 것보다 낫다', '명시적인 것이 암시적인 것 보다 낫다']\n",
      "[' Beautiful is better than ugly', ' Explicit is better than implicit']\n"
     ]
    }
   ],
   "source": [
    "ko = []\n",
    "en = []\n",
    "for i in data:\n",
    "    temp = i.split('.')\n",
    "    ko.append(temp[0])\n",
    "    en.append(temp[1])\n",
    "\n",
    "print(ko)\n",
    "print(en)"
   ]
  },
  {
   "cell_type": "markdown",
   "id": "9a364341",
   "metadata": {},
   "source": [
    "### 계산기"
   ]
  },
  {
   "cell_type": "code",
   "execution_count": 16,
   "id": "89e36515",
   "metadata": {},
   "outputs": [
    {
     "data": {
      "text/plain": [
       "(475, -225, 43750, 0.4)"
      ]
     },
     "execution_count": 16,
     "metadata": {},
     "output_type": "execute_result"
    }
   ],
   "source": [
    "# 함수로 만드는 계산기\n",
    "\n",
    "def calculator(a, b):\n",
    "    return a+b, a-b, a*b, round(a/b,1)\n",
    "\n",
    "calculator(125, 350)"
   ]
  },
  {
   "cell_type": "code",
   "execution_count": 15,
   "id": "be4e0e71",
   "metadata": {},
   "outputs": [
    {
     "data": {
      "text/plain": [
       "475"
      ]
     },
     "execution_count": 15,
     "metadata": {},
     "output_type": "execute_result"
    }
   ],
   "source": [
    "# lambda로 만드는 계산기\n",
    "\n",
    "calculator = lambda a,b : a+b\n",
    "\n",
    "calculator(125, 350)"
   ]
  },
  {
   "cell_type": "code",
   "execution_count": 16,
   "id": "1b16cdb5",
   "metadata": {
    "scrolled": true
   },
   "outputs": [
    {
     "name": "stdout",
     "output_type": "stream",
     "text": [
      "\n",
      "종료를 하려면 숫자1, 숫자2 모두 0을 입력해주세요\n",
      "숫자1을 입력하세요: 10\n",
      "숫자2를 입력하세요: 30\n",
      "두 수의 합은: 40입니다.\n",
      "\n",
      "종료를 하려면 숫자1, 숫자2 모두 0을 입력해주세요\n",
      "숫자1을 입력하세요: 0\n",
      "숫자2를 입력하세요: 0\n",
      "종료되었습니다.\n"
     ]
    }
   ],
   "source": [
    "#덧셈계산기\n",
    "\n",
    "while True:\n",
    "    print()\n",
    "    print('종료를 하려면 숫자1, 숫자2 모두 0을 입력해주세요')\n",
    "    num1 = int(input('숫자1을 입력하세요: '))\n",
    "    num2 = int(input('숫자2를 입력하세요: '))\n",
    "    \n",
    "    if num1 ==0 and num2 == 0:\n",
    "        print('종료되었습니다.')\n",
    "        break\n",
    "    total = num1+num2    \n",
    "    print(f'두 수의 합은: {total}입니다.')"
   ]
  },
  {
   "cell_type": "code",
   "execution_count": 9,
   "id": "5b917bf1",
   "metadata": {},
   "outputs": [
    {
     "data": {
      "text/plain": [
       "40.0"
      ]
     },
     "execution_count": 9,
     "metadata": {},
     "output_type": "execute_result"
    }
   ],
   "source": [
    "# lambda 환률 계산기\n",
    "\n",
    "exchange = lambda won : won / 1250\n",
    "exchange(50000)"
   ]
  },
  {
   "cell_type": "code",
   "execution_count": 12,
   "id": "d7cc811a",
   "metadata": {},
   "outputs": [
    {
     "name": "stdout",
     "output_type": "stream",
     "text": [
      "원화 금액을 입력하면 달러로 변환: 100000\n"
     ]
    },
    {
     "data": {
      "text/plain": [
       "80.0"
      ]
     },
     "execution_count": 12,
     "metadata": {},
     "output_type": "execute_result"
    }
   ],
   "source": [
    "exchange = lambda won : won / 1250\n",
    "exchange(int(input('원화 금액을 입력하면 달러로 변환: ')))"
   ]
  },
  {
   "cell_type": "code",
   "execution_count": 18,
   "id": "8ca0be0f",
   "metadata": {},
   "outputs": [],
   "source": [
    "f = open('name.txt', 'w')\n",
    "f.write('홍길동')\n",
    "f.close()"
   ]
  },
  {
   "cell_type": "code",
   "execution_count": 19,
   "id": "211205d2",
   "metadata": {},
   "outputs": [],
   "source": [
    "f = open('name.txt', 'a')\n",
    "f.write('\\n')\n",
    "f.write('이길동')\n",
    "f.close()"
   ]
  },
  {
   "cell_type": "code",
   "execution_count": 20,
   "id": "d995174c",
   "metadata": {},
   "outputs": [
    {
     "name": "stdout",
     "output_type": "stream",
     "text": [
      "홍길동\n",
      "이길동\n"
     ]
    }
   ],
   "source": [
    "f = open('name.txt', 'r')\n",
    "data = f.read()\n",
    "print(data)"
   ]
  },
  {
   "cell_type": "code",
   "execution_count": 21,
   "id": "3366bc55",
   "metadata": {},
   "outputs": [
    {
     "name": "stdout",
     "output_type": "stream",
     "text": [
      "<class 'str'>\n"
     ]
    }
   ],
   "source": [
    "print(type(data))"
   ]
  },
  {
   "cell_type": "code",
   "execution_count": 22,
   "id": "63d69a42",
   "metadata": {},
   "outputs": [
    {
     "name": "stdout",
     "output_type": "stream",
     "text": [
      "['홍길동', '이길동']\n"
     ]
    }
   ],
   "source": [
    "data =data.split('\\n')\n",
    "print(data)"
   ]
  },
  {
   "cell_type": "code",
   "execution_count": 23,
   "id": "5c03bdde",
   "metadata": {},
   "outputs": [
    {
     "name": "stdout",
     "output_type": "stream",
     "text": [
      "안녕하세요.\n",
      "파이썬 함수 입니다.\n"
     ]
    }
   ],
   "source": [
    "def hello():\n",
    "    print('안녕하세요.')\n",
    "    print('파이썬 함수 입니다.')\n",
    "    \n",
    "hello()"
   ]
  },
  {
   "cell_type": "code",
   "execution_count": 24,
   "id": "a839a6c1",
   "metadata": {},
   "outputs": [
    {
     "name": "stdout",
     "output_type": "stream",
     "text": [
      "7\n"
     ]
    }
   ],
   "source": [
    "def abc(a,b):\n",
    "    print(a+b)\n",
    "\n",
    "abc(3,4)"
   ]
  },
  {
   "cell_type": "markdown",
   "id": "a694b79b",
   "metadata": {},
   "source": [
    "### 구구단"
   ]
  },
  {
   "cell_type": "code",
   "execution_count": 2,
   "id": "9bc33f76",
   "metadata": {},
   "outputs": [],
   "source": [
    "def gugu(x):\n",
    "    print(x,'단', '\\n','-'*50)\n",
    "    for i in range(1,10):\n",
    "        print(x,'x',i,'=', x*i)\n",
    "        print('-'*30)\n"
   ]
  },
  {
   "cell_type": "code",
   "execution_count": 32,
   "id": "b2b9dbb8",
   "metadata": {},
   "outputs": [
    {
     "name": "stdout",
     "output_type": "stream",
     "text": [
      "3 단 \n",
      " --------------------------------------------------\n",
      "3 x 1 = 3\n",
      "3 x 2 = 6\n",
      "3 x 3 = 9\n",
      "3 x 4 = 12\n",
      "3 x 5 = 15\n",
      "3 x 6 = 18\n",
      "3 x 7 = 21\n",
      "3 x 8 = 24\n",
      "3 x 9 = 27\n"
     ]
    }
   ],
   "source": [
    "gugu(3)"
   ]
  },
  {
   "cell_type": "code",
   "execution_count": 34,
   "id": "b7699c2f",
   "metadata": {},
   "outputs": [],
   "source": [
    "def add(a,b):\n",
    "    print(a+b)\n",
    "\n",
    "def add2(a,b):\n",
    "    return a+b"
   ]
  },
  {
   "cell_type": "code",
   "execution_count": 7,
   "id": "29788ffb",
   "metadata": {},
   "outputs": [
    {
     "name": "stdout",
     "output_type": "stream",
     "text": [
      "2단\n",
      "2*2 = 2*2\n",
      "2*3 = 2*3\n",
      "2*4 = 2*4\n",
      "2*5 = 2*5\n",
      "2*6 = 2*6\n",
      "2*7 = 2*7\n",
      "2*8 = 2*8\n",
      "2*9 = 2*9\n",
      "------------------------------\n",
      "3단\n",
      "3*2 = 3*2\n",
      "3*3 = 3*3\n",
      "3*4 = 3*4\n",
      "3*5 = 3*5\n",
      "3*6 = 3*6\n",
      "3*7 = 3*7\n",
      "3*8 = 3*8\n",
      "3*9 = 3*9\n",
      "------------------------------\n",
      "4단\n",
      "4*2 = 4*2\n",
      "4*3 = 4*3\n",
      "4*4 = 4*4\n",
      "4*5 = 4*5\n",
      "4*6 = 4*6\n",
      "4*7 = 4*7\n",
      "4*8 = 4*8\n",
      "4*9 = 4*9\n",
      "------------------------------\n",
      "5단\n",
      "5*2 = 5*2\n",
      "5*3 = 5*3\n",
      "5*4 = 5*4\n",
      "5*5 = 5*5\n",
      "5*6 = 5*6\n",
      "5*7 = 5*7\n",
      "5*8 = 5*8\n",
      "5*9 = 5*9\n",
      "------------------------------\n",
      "6단\n",
      "6*2 = 6*2\n",
      "6*3 = 6*3\n",
      "6*4 = 6*4\n",
      "6*5 = 6*5\n",
      "6*6 = 6*6\n",
      "6*7 = 6*7\n",
      "6*8 = 6*8\n",
      "6*9 = 6*9\n",
      "------------------------------\n",
      "7단\n",
      "7*2 = 7*2\n",
      "7*3 = 7*3\n",
      "7*4 = 7*4\n",
      "7*5 = 7*5\n",
      "7*6 = 7*6\n",
      "7*7 = 7*7\n",
      "7*8 = 7*8\n",
      "7*9 = 7*9\n",
      "------------------------------\n",
      "8단\n",
      "8*2 = 8*2\n",
      "8*3 = 8*3\n",
      "8*4 = 8*4\n",
      "8*5 = 8*5\n",
      "8*6 = 8*6\n",
      "8*7 = 8*7\n",
      "8*8 = 8*8\n",
      "8*9 = 8*9\n",
      "------------------------------\n",
      "9단\n",
      "9*2 = 9*2\n",
      "9*3 = 9*3\n",
      "9*4 = 9*4\n",
      "9*5 = 9*5\n",
      "9*6 = 9*6\n",
      "9*7 = 9*7\n",
      "9*8 = 9*8\n",
      "9*9 = 9*9\n",
      "------------------------------\n"
     ]
    }
   ],
   "source": [
    "#for 구구단\n",
    "\n",
    "for i in range(2,10):\n",
    "    print(f'{i}단')\n",
    "    for j in range(2,10):\n",
    "        print(f'{i}*{j} = {i}*{j}')\n",
    "    print('-'*30)"
   ]
  },
  {
   "cell_type": "code",
   "execution_count": 37,
   "id": "52afdab5",
   "metadata": {},
   "outputs": [
    {
     "name": "stdout",
     "output_type": "stream",
     "text": [
      "3\n",
      "None\n"
     ]
    }
   ],
   "source": [
    "x = add(1,2)\n",
    "print(x)"
   ]
  },
  {
   "cell_type": "code",
   "execution_count": 38,
   "id": "dd518c8e",
   "metadata": {},
   "outputs": [
    {
     "name": "stdout",
     "output_type": "stream",
     "text": [
      "3\n"
     ]
    }
   ],
   "source": [
    "y = add2(1,2)\n",
    "print(y)"
   ]
  },
  {
   "cell_type": "code",
   "execution_count": 40,
   "id": "fec4e505",
   "metadata": {},
   "outputs": [
    {
     "name": "stdout",
     "output_type": "stream",
     "text": [
      "20\n"
     ]
    }
   ],
   "source": [
    "def func(a,b=10):\n",
    "    print(a+b)\n",
    "\n",
    "func(10)"
   ]
  },
  {
   "cell_type": "code",
   "execution_count": 41,
   "id": "33b88ad9",
   "metadata": {},
   "outputs": [
    {
     "name": "stdout",
     "output_type": "stream",
     "text": [
      "['False', 'None', 'True', 'and', 'as', 'assert', 'async', 'await', 'break', 'class', 'continue', 'def', 'del', 'elif', 'else', 'except', 'finally', 'for', 'from', 'global', 'if', 'import', 'in', 'is', 'lambda', 'nonlocal', 'not', 'or', 'pass', 'raise', 'return', 'try', 'while', 'with', 'yield']\n"
     ]
    }
   ],
   "source": [
    "from keyword import kwlist\n",
    "\n",
    "print(kwlist)"
   ]
  },
  {
   "cell_type": "code",
   "execution_count": 42,
   "id": "6f72014a",
   "metadata": {},
   "outputs": [
    {
     "name": "stdout",
     "output_type": "stream",
     "text": [
      "C:\\Users\\sunny\\Desktop\\python\n"
     ]
    }
   ],
   "source": [
    "import os\n",
    "print(os.getcwd())"
   ]
  },
  {
   "cell_type": "code",
   "execution_count": 43,
   "id": "2064d779",
   "metadata": {},
   "outputs": [
    {
     "name": "stdout",
     "output_type": "stream",
     "text": [
      "time.struct_time(tm_year=2021, tm_mon=5, tm_mday=26, tm_hour=22, tm_min=59, tm_sec=5, tm_wday=2, tm_yday=146, tm_isdst=0)\n"
     ]
    }
   ],
   "source": [
    "import time\n",
    "print(time.localtime())"
   ]
  },
  {
   "cell_type": "code",
   "execution_count": 45,
   "id": "b02ad461",
   "metadata": {},
   "outputs": [
    {
     "name": "stdout",
     "output_type": "stream",
     "text": [
      "time.struct_time(tm_year=2021, tm_mon=5, tm_mday=26, tm_hour=22, tm_min=59, tm_sec=49, tm_wday=2, tm_yday=146, tm_isdst=0)\n"
     ]
    }
   ],
   "source": [
    "time.sleep(1)\n",
    "print(time.localtime())"
   ]
  },
  {
   "cell_type": "code",
   "execution_count": 48,
   "id": "8671e938",
   "metadata": {},
   "outputs": [
    {
     "name": "stdout",
     "output_type": "stream",
     "text": [
      "Help on module random:\n",
      "\n",
      "NAME\n",
      "    random - Random variable generators.\n",
      "\n",
      "MODULE REFERENCE\n",
      "    https://docs.python.org/3.8/library/random\n",
      "    \n",
      "    The following documentation is automatically generated from the Python\n",
      "    source files.  It may be incomplete, incorrect or include features that\n",
      "    are considered implementation detail and may vary between Python\n",
      "    implementations.  When in doubt, consult the module reference at the\n",
      "    location listed above.\n",
      "\n",
      "DESCRIPTION\n",
      "        integers\n",
      "        --------\n",
      "               uniform within range\n",
      "    \n",
      "        sequences\n",
      "        ---------\n",
      "               pick random element\n",
      "               pick random sample\n",
      "               pick weighted random sample\n",
      "               generate random permutation\n",
      "    \n",
      "        distributions on the real line:\n",
      "        ------------------------------\n",
      "               uniform\n",
      "               triangular\n",
      "               normal (Gaussian)\n",
      "               lognormal\n",
      "               negative exponential\n",
      "               gamma\n",
      "               beta\n",
      "               pareto\n",
      "               Weibull\n",
      "    \n",
      "        distributions on the circle (angles 0 to 2pi)\n",
      "        ---------------------------------------------\n",
      "               circular uniform\n",
      "               von Mises\n",
      "    \n",
      "    General notes on the underlying Mersenne Twister core generator:\n",
      "    \n",
      "    * The period is 2**19937-1.\n",
      "    * It is one of the most extensively tested generators in existence.\n",
      "    * The random() method is implemented in C, executes in a single Python step,\n",
      "      and is, therefore, threadsafe.\n",
      "\n",
      "CLASSES\n",
      "    _random.Random(builtins.object)\n",
      "        Random\n",
      "            SystemRandom\n",
      "    \n",
      "    class Random(_random.Random)\n",
      "     |  Random(x=None)\n",
      "     |  \n",
      "     |  Random number generator base class used by bound module functions.\n",
      "     |  \n",
      "     |  Used to instantiate instances of Random to get generators that don't\n",
      "     |  share state.\n",
      "     |  \n",
      "     |  Class Random can also be subclassed if you want to use a different basic\n",
      "     |  generator of your own devising: in that case, override the following\n",
      "     |  methods:  random(), seed(), getstate(), and setstate().\n",
      "     |  Optionally, implement a getrandbits() method so that randrange()\n",
      "     |  can cover arbitrarily large ranges.\n",
      "     |  \n",
      "     |  Method resolution order:\n",
      "     |      Random\n",
      "     |      _random.Random\n",
      "     |      builtins.object\n",
      "     |  \n",
      "     |  Methods defined here:\n",
      "     |  \n",
      "     |  __getstate__(self)\n",
      "     |      # Issue 17489: Since __reduce__ was defined to fix #759889 this is no\n",
      "     |      # longer called; we leave it here because it has been here since random was\n",
      "     |      # rewritten back in 2001 and why risk breaking something.\n",
      "     |  \n",
      "     |  __init__(self, x=None)\n",
      "     |      Initialize an instance.\n",
      "     |      \n",
      "     |      Optional argument x controls seeding, as for Random.seed().\n",
      "     |  \n",
      "     |  __reduce__(self)\n",
      "     |      Helper for pickle.\n",
      "     |  \n",
      "     |  __setstate__(self, state)\n",
      "     |  \n",
      "     |  betavariate(self, alpha, beta)\n",
      "     |      Beta distribution.\n",
      "     |      \n",
      "     |      Conditions on the parameters are alpha > 0 and beta > 0.\n",
      "     |      Returned values range between 0 and 1.\n",
      "     |  \n",
      "     |  choice(self, seq)\n",
      "     |      Choose a random element from a non-empty sequence.\n",
      "     |  \n",
      "     |  choices(self, population, weights=None, *, cum_weights=None, k=1)\n",
      "     |      Return a k sized list of population elements chosen with replacement.\n",
      "     |      \n",
      "     |      If the relative weights or cumulative weights are not specified,\n",
      "     |      the selections are made with equal probability.\n",
      "     |  \n",
      "     |  expovariate(self, lambd)\n",
      "     |      Exponential distribution.\n",
      "     |      \n",
      "     |      lambd is 1.0 divided by the desired mean.  It should be\n",
      "     |      nonzero.  (The parameter would be called \"lambda\", but that is\n",
      "     |      a reserved word in Python.)  Returned values range from 0 to\n",
      "     |      positive infinity if lambd is positive, and from negative\n",
      "     |      infinity to 0 if lambd is negative.\n",
      "     |  \n",
      "     |  gammavariate(self, alpha, beta)\n",
      "     |      Gamma distribution.  Not the gamma function!\n",
      "     |      \n",
      "     |      Conditions on the parameters are alpha > 0 and beta > 0.\n",
      "     |      \n",
      "     |      The probability distribution function is:\n",
      "     |      \n",
      "     |                  x ** (alpha - 1) * math.exp(-x / beta)\n",
      "     |        pdf(x) =  --------------------------------------\n",
      "     |                    math.gamma(alpha) * beta ** alpha\n",
      "     |  \n",
      "     |  gauss(self, mu, sigma)\n",
      "     |      Gaussian distribution.\n",
      "     |      \n",
      "     |      mu is the mean, and sigma is the standard deviation.  This is\n",
      "     |      slightly faster than the normalvariate() function.\n",
      "     |      \n",
      "     |      Not thread-safe without a lock around calls.\n",
      "     |  \n",
      "     |  getstate(self)\n",
      "     |      Return internal state; can be passed to setstate() later.\n",
      "     |  \n",
      "     |  lognormvariate(self, mu, sigma)\n",
      "     |      Log normal distribution.\n",
      "     |      \n",
      "     |      If you take the natural logarithm of this distribution, you'll get a\n",
      "     |      normal distribution with mean mu and standard deviation sigma.\n",
      "     |      mu can have any value, and sigma must be greater than zero.\n",
      "     |  \n",
      "     |  normalvariate(self, mu, sigma)\n",
      "     |      Normal distribution.\n",
      "     |      \n",
      "     |      mu is the mean, and sigma is the standard deviation.\n",
      "     |  \n",
      "     |  paretovariate(self, alpha)\n",
      "     |      Pareto distribution.  alpha is the shape parameter.\n",
      "     |  \n",
      "     |  randint(self, a, b)\n",
      "     |      Return random integer in range [a, b], including both end points.\n",
      "     |  \n",
      "     |  randrange(self, start, stop=None, step=1, _int=<class 'int'>)\n",
      "     |      Choose a random item from range(start, stop[, step]).\n",
      "     |      \n",
      "     |      This fixes the problem with randint() which includes the\n",
      "     |      endpoint; in Python this is usually not what you want.\n",
      "     |  \n",
      "     |  sample(self, population, k)\n",
      "     |      Chooses k unique random elements from a population sequence or set.\n",
      "     |      \n",
      "     |      Returns a new list containing elements from the population while\n",
      "     |      leaving the original population unchanged.  The resulting list is\n",
      "     |      in selection order so that all sub-slices will also be valid random\n",
      "     |      samples.  This allows raffle winners (the sample) to be partitioned\n",
      "     |      into grand prize and second place winners (the subslices).\n",
      "     |      \n",
      "     |      Members of the population need not be hashable or unique.  If the\n",
      "     |      population contains repeats, then each occurrence is a possible\n",
      "     |      selection in the sample.\n",
      "     |      \n",
      "     |      To choose a sample in a range of integers, use range as an argument.\n",
      "     |      This is especially fast and space efficient for sampling from a\n",
      "     |      large population:   sample(range(10000000), 60)\n",
      "     |  \n",
      "     |  seed(self, a=None, version=2)\n",
      "     |      Initialize internal state from hashable object.\n",
      "     |      \n",
      "     |      None or no argument seeds from current time or from an operating\n",
      "     |      system specific randomness source if available.\n",
      "     |      \n",
      "     |      If *a* is an int, all bits are used.\n",
      "     |      \n",
      "     |      For version 2 (the default), all of the bits are used if *a* is a str,\n",
      "     |      bytes, or bytearray.  For version 1 (provided for reproducing random\n",
      "     |      sequences from older versions of Python), the algorithm for str and\n",
      "     |      bytes generates a narrower range of seeds.\n",
      "     |  \n",
      "     |  setstate(self, state)\n",
      "     |      Restore internal state from object returned by getstate().\n",
      "     |  \n",
      "     |  shuffle(self, x, random=None)\n",
      "     |      Shuffle list x in place, and return None.\n",
      "     |      \n",
      "     |      Optional argument random is a 0-argument function returning a\n",
      "     |      random float in [0.0, 1.0); if it is the default None, the\n",
      "     |      standard random.random will be used.\n",
      "     |  \n",
      "     |  triangular(self, low=0.0, high=1.0, mode=None)\n",
      "     |      Triangular distribution.\n",
      "     |      \n",
      "     |      Continuous distribution bounded by given lower and upper limits,\n",
      "     |      and having a given mode value in-between.\n",
      "     |      \n",
      "     |      http://en.wikipedia.org/wiki/Triangular_distribution\n",
      "     |  \n",
      "     |  uniform(self, a, b)\n",
      "     |      Get a random number in the range [a, b) or [a, b] depending on rounding.\n",
      "     |  \n",
      "     |  vonmisesvariate(self, mu, kappa)\n",
      "     |      Circular data distribution.\n",
      "     |      \n",
      "     |      mu is the mean angle, expressed in radians between 0 and 2*pi, and\n",
      "     |      kappa is the concentration parameter, which must be greater than or\n",
      "     |      equal to zero.  If kappa is equal to zero, this distribution reduces\n",
      "     |      to a uniform random angle over the range 0 to 2*pi.\n",
      "     |  \n",
      "     |  weibullvariate(self, alpha, beta)\n",
      "     |      Weibull distribution.\n",
      "     |      \n",
      "     |      alpha is the scale parameter and beta is the shape parameter.\n",
      "     |  \n",
      "     |  ----------------------------------------------------------------------\n",
      "     |  Class methods defined here:\n",
      "     |  \n",
      "     |  __init_subclass__(**kwargs) from builtins.type\n",
      "     |      Control how subclasses generate random integers.\n",
      "     |      \n",
      "     |      The algorithm a subclass can use depends on the random() and/or\n",
      "     |      getrandbits() implementation available to it and determines\n",
      "     |      whether it can generate random integers from arbitrarily large\n",
      "     |      ranges.\n",
      "     |  \n",
      "     |  ----------------------------------------------------------------------\n",
      "     |  Data descriptors defined here:\n",
      "     |  \n",
      "     |  __dict__\n",
      "     |      dictionary for instance variables (if defined)\n",
      "     |  \n",
      "     |  __weakref__\n",
      "     |      list of weak references to the object (if defined)\n",
      "     |  \n",
      "     |  ----------------------------------------------------------------------\n",
      "     |  Data and other attributes defined here:\n",
      "     |  \n",
      "     |  VERSION = 3\n",
      "     |  \n",
      "     |  ----------------------------------------------------------------------\n",
      "     |  Methods inherited from _random.Random:\n",
      "     |  \n",
      "     |  __getattribute__(self, name, /)\n",
      "     |      Return getattr(self, name).\n",
      "     |  \n",
      "     |  getrandbits(self, k, /)\n",
      "     |      getrandbits(k) -> x.  Generates an int with k random bits.\n",
      "     |  \n",
      "     |  random(self, /)\n",
      "     |      random() -> x in the interval [0, 1).\n",
      "     |  \n",
      "     |  ----------------------------------------------------------------------\n",
      "     |  Static methods inherited from _random.Random:\n",
      "     |  \n",
      "     |  __new__(*args, **kwargs) from builtins.type\n",
      "     |      Create and return a new object.  See help(type) for accurate signature.\n",
      "    \n",
      "    class SystemRandom(Random)\n",
      "     |  SystemRandom(x=None)\n",
      "     |  \n",
      "     |  Alternate random number generator using sources provided\n",
      "     |  by the operating system (such as /dev/urandom on Unix or\n",
      "     |  CryptGenRandom on Windows).\n",
      "     |  \n",
      "     |   Not available on all systems (see os.urandom() for details).\n",
      "     |  \n",
      "     |  Method resolution order:\n",
      "     |      SystemRandom\n",
      "     |      Random\n",
      "     |      _random.Random\n",
      "     |      builtins.object\n",
      "     |  \n",
      "     |  Methods defined here:\n",
      "     |  \n",
      "     |  getrandbits(self, k)\n",
      "     |      getrandbits(k) -> x.  Generates an int with k random bits.\n",
      "     |  \n",
      "     |  getstate = _notimplemented(self, *args, **kwds)\n",
      "     |  \n",
      "     |  random(self)\n",
      "     |      Get the next random number in the range [0.0, 1.0).\n",
      "     |  \n",
      "     |  seed(self, *args, **kwds)\n",
      "     |      Stub method.  Not used for a system random number generator.\n",
      "     |  \n",
      "     |  setstate = _notimplemented(self, *args, **kwds)\n",
      "     |  \n",
      "     |  ----------------------------------------------------------------------\n",
      "     |  Methods inherited from Random:\n",
      "     |  \n",
      "     |  __getstate__(self)\n",
      "     |      # Issue 17489: Since __reduce__ was defined to fix #759889 this is no\n",
      "     |      # longer called; we leave it here because it has been here since random was\n",
      "     |      # rewritten back in 2001 and why risk breaking something.\n",
      "     |  \n",
      "     |  __init__(self, x=None)\n",
      "     |      Initialize an instance.\n",
      "     |      \n",
      "     |      Optional argument x controls seeding, as for Random.seed().\n",
      "     |  \n",
      "     |  __reduce__(self)\n",
      "     |      Helper for pickle.\n",
      "     |  \n",
      "     |  __setstate__(self, state)\n",
      "     |  \n",
      "     |  betavariate(self, alpha, beta)\n",
      "     |      Beta distribution.\n",
      "     |      \n",
      "     |      Conditions on the parameters are alpha > 0 and beta > 0.\n",
      "     |      Returned values range between 0 and 1.\n",
      "     |  \n",
      "     |  choice(self, seq)\n",
      "     |      Choose a random element from a non-empty sequence.\n",
      "     |  \n",
      "     |  choices(self, population, weights=None, *, cum_weights=None, k=1)\n",
      "     |      Return a k sized list of population elements chosen with replacement.\n",
      "     |      \n",
      "     |      If the relative weights or cumulative weights are not specified,\n",
      "     |      the selections are made with equal probability.\n",
      "     |  \n",
      "     |  expovariate(self, lambd)\n",
      "     |      Exponential distribution.\n",
      "     |      \n",
      "     |      lambd is 1.0 divided by the desired mean.  It should be\n",
      "     |      nonzero.  (The parameter would be called \"lambda\", but that is\n",
      "     |      a reserved word in Python.)  Returned values range from 0 to\n",
      "     |      positive infinity if lambd is positive, and from negative\n",
      "     |      infinity to 0 if lambd is negative.\n",
      "     |  \n",
      "     |  gammavariate(self, alpha, beta)\n",
      "     |      Gamma distribution.  Not the gamma function!\n",
      "     |      \n",
      "     |      Conditions on the parameters are alpha > 0 and beta > 0.\n",
      "     |      \n",
      "     |      The probability distribution function is:\n",
      "     |      \n",
      "     |                  x ** (alpha - 1) * math.exp(-x / beta)\n",
      "     |        pdf(x) =  --------------------------------------\n",
      "     |                    math.gamma(alpha) * beta ** alpha\n",
      "     |  \n",
      "     |  gauss(self, mu, sigma)\n",
      "     |      Gaussian distribution.\n",
      "     |      \n",
      "     |      mu is the mean, and sigma is the standard deviation.  This is\n",
      "     |      slightly faster than the normalvariate() function.\n",
      "     |      \n",
      "     |      Not thread-safe without a lock around calls.\n",
      "     |  \n",
      "     |  lognormvariate(self, mu, sigma)\n",
      "     |      Log normal distribution.\n",
      "     |      \n",
      "     |      If you take the natural logarithm of this distribution, you'll get a\n",
      "     |      normal distribution with mean mu and standard deviation sigma.\n",
      "     |      mu can have any value, and sigma must be greater than zero.\n",
      "     |  \n",
      "     |  normalvariate(self, mu, sigma)\n",
      "     |      Normal distribution.\n",
      "     |      \n",
      "     |      mu is the mean, and sigma is the standard deviation.\n",
      "     |  \n",
      "     |  paretovariate(self, alpha)\n",
      "     |      Pareto distribution.  alpha is the shape parameter.\n",
      "     |  \n",
      "     |  randint(self, a, b)\n",
      "     |      Return random integer in range [a, b], including both end points.\n",
      "     |  \n",
      "     |  randrange(self, start, stop=None, step=1, _int=<class 'int'>)\n",
      "     |      Choose a random item from range(start, stop[, step]).\n",
      "     |      \n",
      "     |      This fixes the problem with randint() which includes the\n",
      "     |      endpoint; in Python this is usually not what you want.\n",
      "     |  \n",
      "     |  sample(self, population, k)\n",
      "     |      Chooses k unique random elements from a population sequence or set.\n",
      "     |      \n",
      "     |      Returns a new list containing elements from the population while\n",
      "     |      leaving the original population unchanged.  The resulting list is\n",
      "     |      in selection order so that all sub-slices will also be valid random\n",
      "     |      samples.  This allows raffle winners (the sample) to be partitioned\n",
      "     |      into grand prize and second place winners (the subslices).\n",
      "     |      \n",
      "     |      Members of the population need not be hashable or unique.  If the\n",
      "     |      population contains repeats, then each occurrence is a possible\n",
      "     |      selection in the sample.\n",
      "     |      \n",
      "     |      To choose a sample in a range of integers, use range as an argument.\n",
      "     |      This is especially fast and space efficient for sampling from a\n",
      "     |      large population:   sample(range(10000000), 60)\n",
      "     |  \n",
      "     |  shuffle(self, x, random=None)\n",
      "     |      Shuffle list x in place, and return None.\n",
      "     |      \n",
      "     |      Optional argument random is a 0-argument function returning a\n",
      "     |      random float in [0.0, 1.0); if it is the default None, the\n",
      "     |      standard random.random will be used.\n",
      "     |  \n",
      "     |  triangular(self, low=0.0, high=1.0, mode=None)\n",
      "     |      Triangular distribution.\n",
      "     |      \n",
      "     |      Continuous distribution bounded by given lower and upper limits,\n",
      "     |      and having a given mode value in-between.\n",
      "     |      \n",
      "     |      http://en.wikipedia.org/wiki/Triangular_distribution\n",
      "     |  \n",
      "     |  uniform(self, a, b)\n",
      "     |      Get a random number in the range [a, b) or [a, b] depending on rounding.\n",
      "     |  \n",
      "     |  vonmisesvariate(self, mu, kappa)\n",
      "     |      Circular data distribution.\n",
      "     |      \n",
      "     |      mu is the mean angle, expressed in radians between 0 and 2*pi, and\n",
      "     |      kappa is the concentration parameter, which must be greater than or\n",
      "     |      equal to zero.  If kappa is equal to zero, this distribution reduces\n",
      "     |      to a uniform random angle over the range 0 to 2*pi.\n",
      "     |  \n",
      "     |  weibullvariate(self, alpha, beta)\n",
      "     |      Weibull distribution.\n",
      "     |      \n",
      "     |      alpha is the scale parameter and beta is the shape parameter.\n",
      "     |  \n",
      "     |  ----------------------------------------------------------------------\n",
      "     |  Class methods inherited from Random:\n",
      "     |  \n",
      "     |  __init_subclass__(**kwargs) from builtins.type\n",
      "     |      Control how subclasses generate random integers.\n",
      "     |      \n",
      "     |      The algorithm a subclass can use depends on the random() and/or\n",
      "     |      getrandbits() implementation available to it and determines\n",
      "     |      whether it can generate random integers from arbitrarily large\n",
      "     |      ranges.\n",
      "     |  \n",
      "     |  ----------------------------------------------------------------------\n",
      "     |  Data descriptors inherited from Random:\n",
      "     |  \n",
      "     |  __dict__\n",
      "     |      dictionary for instance variables (if defined)\n",
      "     |  \n",
      "     |  __weakref__\n",
      "     |      list of weak references to the object (if defined)\n",
      "     |  \n",
      "     |  ----------------------------------------------------------------------\n",
      "     |  Data and other attributes inherited from Random:\n",
      "     |  \n",
      "     |  VERSION = 3\n",
      "     |  \n",
      "     |  ----------------------------------------------------------------------\n",
      "     |  Methods inherited from _random.Random:\n",
      "     |  \n",
      "     |  __getattribute__(self, name, /)\n",
      "     |      Return getattr(self, name).\n",
      "     |  \n",
      "     |  ----------------------------------------------------------------------\n",
      "     |  Static methods inherited from _random.Random:\n",
      "     |  \n",
      "     |  __new__(*args, **kwargs) from builtins.type\n",
      "     |      Create and return a new object.  See help(type) for accurate signature.\n",
      "\n",
      "FUNCTIONS\n",
      "    betavariate(alpha, beta) method of Random instance\n",
      "        Beta distribution.\n",
      "        \n",
      "        Conditions on the parameters are alpha > 0 and beta > 0.\n",
      "        Returned values range between 0 and 1.\n",
      "    \n",
      "    choice(seq) method of Random instance\n",
      "        Choose a random element from a non-empty sequence.\n",
      "    \n",
      "    choices(population, weights=None, *, cum_weights=None, k=1) method of Random instance\n",
      "        Return a k sized list of population elements chosen with replacement.\n",
      "        \n",
      "        If the relative weights or cumulative weights are not specified,\n",
      "        the selections are made with equal probability.\n",
      "    \n",
      "    expovariate(lambd) method of Random instance\n",
      "        Exponential distribution.\n",
      "        \n",
      "        lambd is 1.0 divided by the desired mean.  It should be\n",
      "        nonzero.  (The parameter would be called \"lambda\", but that is\n",
      "        a reserved word in Python.)  Returned values range from 0 to\n",
      "        positive infinity if lambd is positive, and from negative\n",
      "        infinity to 0 if lambd is negative.\n",
      "    \n",
      "    gammavariate(alpha, beta) method of Random instance\n",
      "        Gamma distribution.  Not the gamma function!\n",
      "        \n",
      "        Conditions on the parameters are alpha > 0 and beta > 0.\n",
      "        \n",
      "        The probability distribution function is:\n",
      "        \n",
      "                    x ** (alpha - 1) * math.exp(-x / beta)\n",
      "          pdf(x) =  --------------------------------------\n",
      "                      math.gamma(alpha) * beta ** alpha\n",
      "    \n",
      "    gauss(mu, sigma) method of Random instance\n",
      "        Gaussian distribution.\n",
      "        \n",
      "        mu is the mean, and sigma is the standard deviation.  This is\n",
      "        slightly faster than the normalvariate() function.\n",
      "        \n",
      "        Not thread-safe without a lock around calls.\n",
      "    \n",
      "    getrandbits(k, /) method of Random instance\n",
      "        getrandbits(k) -> x.  Generates an int with k random bits.\n",
      "    \n",
      "    getstate() method of Random instance\n",
      "        Return internal state; can be passed to setstate() later.\n",
      "    \n",
      "    lognormvariate(mu, sigma) method of Random instance\n",
      "        Log normal distribution.\n",
      "        \n",
      "        If you take the natural logarithm of this distribution, you'll get a\n",
      "        normal distribution with mean mu and standard deviation sigma.\n",
      "        mu can have any value, and sigma must be greater than zero.\n",
      "    \n",
      "    normalvariate(mu, sigma) method of Random instance\n",
      "        Normal distribution.\n",
      "        \n",
      "        mu is the mean, and sigma is the standard deviation.\n",
      "    \n",
      "    paretovariate(alpha) method of Random instance\n",
      "        Pareto distribution.  alpha is the shape parameter.\n",
      "    \n",
      "    randint(a, b) method of Random instance\n",
      "        Return random integer in range [a, b], including both end points.\n",
      "    \n",
      "    random() method of Random instance\n",
      "        random() -> x in the interval [0, 1).\n",
      "    \n",
      "    randrange(start, stop=None, step=1, _int=<class 'int'>) method of Random instance\n",
      "        Choose a random item from range(start, stop[, step]).\n",
      "        \n",
      "        This fixes the problem with randint() which includes the\n",
      "        endpoint; in Python this is usually not what you want.\n",
      "    \n",
      "    sample(population, k) method of Random instance\n",
      "        Chooses k unique random elements from a population sequence or set.\n",
      "        \n",
      "        Returns a new list containing elements from the population while\n",
      "        leaving the original population unchanged.  The resulting list is\n",
      "        in selection order so that all sub-slices will also be valid random\n",
      "        samples.  This allows raffle winners (the sample) to be partitioned\n",
      "        into grand prize and second place winners (the subslices).\n",
      "        \n",
      "        Members of the population need not be hashable or unique.  If the\n",
      "        population contains repeats, then each occurrence is a possible\n",
      "        selection in the sample.\n",
      "        \n",
      "        To choose a sample in a range of integers, use range as an argument.\n",
      "        This is especially fast and space efficient for sampling from a\n",
      "        large population:   sample(range(10000000), 60)\n",
      "    \n",
      "    seed(a=None, version=2) method of Random instance\n",
      "        Initialize internal state from hashable object.\n",
      "        \n",
      "        None or no argument seeds from current time or from an operating\n",
      "        system specific randomness source if available.\n",
      "        \n",
      "        If *a* is an int, all bits are used.\n",
      "        \n",
      "        For version 2 (the default), all of the bits are used if *a* is a str,\n",
      "        bytes, or bytearray.  For version 1 (provided for reproducing random\n",
      "        sequences from older versions of Python), the algorithm for str and\n",
      "        bytes generates a narrower range of seeds.\n",
      "    \n",
      "    setstate(state) method of Random instance\n",
      "        Restore internal state from object returned by getstate().\n",
      "    \n",
      "    shuffle(x, random=None) method of Random instance\n",
      "        Shuffle list x in place, and return None.\n",
      "        \n",
      "        Optional argument random is a 0-argument function returning a\n",
      "        random float in [0.0, 1.0); if it is the default None, the\n",
      "        standard random.random will be used.\n",
      "    \n",
      "    triangular(low=0.0, high=1.0, mode=None) method of Random instance\n",
      "        Triangular distribution.\n",
      "        \n",
      "        Continuous distribution bounded by given lower and upper limits,\n",
      "        and having a given mode value in-between.\n",
      "        \n",
      "        http://en.wikipedia.org/wiki/Triangular_distribution\n",
      "    \n",
      "    uniform(a, b) method of Random instance\n",
      "        Get a random number in the range [a, b) or [a, b] depending on rounding.\n",
      "    \n",
      "    vonmisesvariate(mu, kappa) method of Random instance\n",
      "        Circular data distribution.\n",
      "        \n",
      "        mu is the mean angle, expressed in radians between 0 and 2*pi, and\n",
      "        kappa is the concentration parameter, which must be greater than or\n",
      "        equal to zero.  If kappa is equal to zero, this distribution reduces\n",
      "        to a uniform random angle over the range 0 to 2*pi.\n",
      "    \n",
      "    weibullvariate(alpha, beta) method of Random instance\n",
      "        Weibull distribution.\n",
      "        \n",
      "        alpha is the scale parameter and beta is the shape parameter.\n",
      "\n",
      "DATA\n",
      "    __all__ = ['Random', 'seed', 'random', 'uniform', 'randint', 'choice',...\n",
      "\n",
      "FILE\n",
      "    c:\\programdata\\anaconda3\\lib\\random.py\n",
      "\n",
      "\n"
     ]
    }
   ],
   "source": [
    "import random\n",
    "help(random)"
   ]
  },
  {
   "cell_type": "code",
   "execution_count": 49,
   "id": "a3e48a4a",
   "metadata": {},
   "outputs": [
    {
     "name": "stdout",
     "output_type": "stream",
     "text": [
      "이 파일은 모듈 테스트 파일 입니다.\n"
     ]
    }
   ],
   "source": [
    "import test"
   ]
  },
  {
   "cell_type": "code",
   "execution_count": 50,
   "id": "8dfff7c0",
   "metadata": {},
   "outputs": [
    {
     "name": "stdout",
     "output_type": "stream",
     "text": [
      "8\n"
     ]
    }
   ],
   "source": [
    "abc(5,3)"
   ]
  },
  {
   "cell_type": "code",
   "execution_count": 51,
   "id": "02760360",
   "metadata": {},
   "outputs": [
    {
     "name": "stdout",
     "output_type": "stream",
     "text": [
      "Requirement already satisfied: pandas in c:\\programdata\\anaconda3\\lib\\site-packages (1.2.4)\n",
      "Requirement already satisfied: numpy>=1.16.5 in c:\\programdata\\anaconda3\\lib\\site-packages (from pandas) (1.20.1)\n",
      "Requirement already satisfied: python-dateutil>=2.7.3 in c:\\programdata\\anaconda3\\lib\\site-packages (from pandas) (2.8.1)\n",
      "Requirement already satisfied: pytz>=2017.3 in c:\\programdata\\anaconda3\\lib\\site-packages (from pandas) (2021.1)\n",
      "Requirement already satisfied: six>=1.5 in c:\\programdata\\anaconda3\\lib\\site-packages (from python-dateutil>=2.7.3->pandas) (1.15.0)\n"
     ]
    }
   ],
   "source": [
    "!pip install pandas"
   ]
  },
  {
   "cell_type": "code",
   "execution_count": 52,
   "id": "218a5904",
   "metadata": {},
   "outputs": [
    {
     "name": "stdout",
     "output_type": "stream",
     "text": [
      "Requirement already satisfied: numpy in c:\\programdata\\anaconda3\\lib\\site-packages (1.20.1)\n"
     ]
    }
   ],
   "source": [
    "!pip install numpy"
   ]
  },
  {
   "cell_type": "code",
   "execution_count": 53,
   "id": "65e4c922",
   "metadata": {},
   "outputs": [
    {
     "name": "stdout",
     "output_type": "stream",
     "text": [
      "Requirement already satisfied: matplotlib in c:\\programdata\\anaconda3\\lib\\site-packages (3.3.4)\n",
      "Requirement already satisfied: kiwisolver>=1.0.1 in c:\\programdata\\anaconda3\\lib\\site-packages (from matplotlib) (1.3.1)\n",
      "Requirement already satisfied: cycler>=0.10 in c:\\programdata\\anaconda3\\lib\\site-packages (from matplotlib) (0.10.0)\n",
      "Requirement already satisfied: python-dateutil>=2.1 in c:\\programdata\\anaconda3\\lib\\site-packages (from matplotlib) (2.8.1)\n",
      "Requirement already satisfied: numpy>=1.15 in c:\\programdata\\anaconda3\\lib\\site-packages (from matplotlib) (1.20.1)\n",
      "Requirement already satisfied: pillow>=6.2.0 in c:\\programdata\\anaconda3\\lib\\site-packages (from matplotlib) (8.2.0)\n",
      "Requirement already satisfied: pyparsing!=2.0.4,!=2.1.2,!=2.1.6,>=2.0.3 in c:\\programdata\\anaconda3\\lib\\site-packages (from matplotlib) (2.4.7)\n",
      "Requirement already satisfied: six in c:\\programdata\\anaconda3\\lib\\site-packages (from cycler>=0.10->matplotlib) (1.15.0)\n"
     ]
    }
   ],
   "source": [
    "!pip install matplotlib"
   ]
  },
  {
   "cell_type": "code",
   "execution_count": 54,
   "id": "c83a855d",
   "metadata": {},
   "outputs": [
    {
     "name": "stdout",
     "output_type": "stream",
     "text": [
      "Collecting keras\n",
      "  Downloading Keras-2.4.3-py2.py3-none-any.whl (36 kB)\n",
      "Requirement already satisfied: scipy>=0.14 in c:\\programdata\\anaconda3\\lib\\site-packages (from keras) (1.6.2)\n",
      "Requirement already satisfied: pyyaml in c:\\programdata\\anaconda3\\lib\\site-packages (from keras) (5.4.1)\n",
      "Requirement already satisfied: numpy>=1.9.1 in c:\\programdata\\anaconda3\\lib\\site-packages (from keras) (1.20.1)\n",
      "Requirement already satisfied: h5py in c:\\programdata\\anaconda3\\lib\\site-packages (from keras) (2.10.0)\n",
      "Requirement already satisfied: six in c:\\programdata\\anaconda3\\lib\\site-packages (from h5py->keras) (1.15.0)\n",
      "Installing collected packages: keras\n",
      "Successfully installed keras-2.4.3\n"
     ]
    }
   ],
   "source": [
    "!pip install keras"
   ]
  },
  {
   "cell_type": "markdown",
   "id": "444d5db0",
   "metadata": {},
   "source": [
    "### 로또 번호"
   ]
  },
  {
   "cell_type": "code",
   "execution_count": 56,
   "id": "5b2dc630",
   "metadata": {},
   "outputs": [
    {
     "name": "stdout",
     "output_type": "stream",
     "text": [
      "30\n"
     ]
    }
   ],
   "source": [
    "#로또 번호 생성기\n",
    "'''1. 중복없는 1부터 45 사이의 랜덤 번호 6개 출력\n",
    "   2. 리스트 자료형 결과 출력\n",
    "'''\n",
    "import random\n",
    "\n",
    "temp = random.randint(1,45)\n",
    "print(temp)\n"
   ]
  },
  {
   "cell_type": "code",
   "execution_count": 73,
   "id": "7f43e593",
   "metadata": {},
   "outputs": [
    {
     "name": "stdout",
     "output_type": "stream",
     "text": [
      "[33, 21, 39, 18, 30, 15]\n"
     ]
    }
   ],
   "source": [
    "lotto = []\n",
    "while True:\n",
    "    temp = random.random()\n",
    "    temp *= 100\n",
    "    if temp >=1 and temp<46:\n",
    "        lotto.append(int(temp))\n",
    "        lotto = set(lotto) #중복방지\n",
    "        lotto = list(lotto)\n",
    "    if len(lotto) == 6:\n",
    "        break\n",
    "\n",
    "print(lotto)"
   ]
  },
  {
   "cell_type": "code",
   "execution_count": 81,
   "id": "c5efb539",
   "metadata": {},
   "outputs": [
    {
     "name": "stdout",
     "output_type": "stream",
     "text": [
      "[4, 38, 7, 41, 10, 44]\n"
     ]
    }
   ],
   "source": [
    "lotto2 = []\n",
    "\n",
    "while True:\n",
    "    temp = random.randint(1,45)\n",
    "    lotto2.append(temp)\n",
    "    lotto2 = set(lotto2) #중복방지\n",
    "    lotto2 = list(lotto2)\n",
    "    if len(lotto2) ==6:\n",
    "        break\n",
    "\n",
    "print(lotto2)"
   ]
  },
  {
   "cell_type": "code",
   "execution_count": 83,
   "id": "5c181f4c",
   "metadata": {},
   "outputs": [
    {
     "name": "stdout",
     "output_type": "stream",
     "text": [
      "[2, 6, 11, 13, 19, 22]\n"
     ]
    }
   ],
   "source": [
    "lotto3 = random.sample(range(1,46),6)\n",
    "lotto3 = set(lotto3)\n",
    "lotto3 = list(lotto3)\n",
    "print(lotto3)"
   ]
  },
  {
   "cell_type": "markdown",
   "id": "a504e77e",
   "metadata": {},
   "source": [
    "### 평균나이 구하기"
   ]
  },
  {
   "cell_type": "code",
   "execution_count": 8,
   "id": "dd8eac94",
   "metadata": {},
   "outputs": [
    {
     "name": "stdout",
     "output_type": "stream",
     "text": [
      "팀원의 나이 평균은 : 32\n"
     ]
    }
   ],
   "source": [
    "ages = [20, 25, 33, 45, 51, 24, 26]\n",
    "avrg = round(sum(ages)/len(ages))\n",
    "print(f'팀원의 나이 평균은 : {avrg}')"
   ]
  },
  {
   "cell_type": "code",
   "execution_count": null,
   "id": "d6c23991",
   "metadata": {},
   "outputs": [],
   "source": []
  },
  {
   "cell_type": "code",
   "execution_count": 84,
   "id": "492bf08b",
   "metadata": {},
   "outputs": [
    {
     "name": "stdout",
     "output_type": "stream",
     "text": [
      "Collecting bs4\n",
      "  Downloading bs4-0.0.1.tar.gz (1.1 kB)\n",
      "Requirement already satisfied: beautifulsoup4 in c:\\programdata\\anaconda3\\lib\\site-packages (from bs4) (4.9.3)\n",
      "Requirement already satisfied: soupsieve>1.2 in c:\\programdata\\anaconda3\\lib\\site-packages (from beautifulsoup4->bs4) (2.2.1)\n",
      "Building wheels for collected packages: bs4\n",
      "  Building wheel for bs4 (setup.py): started\n",
      "  Building wheel for bs4 (setup.py): finished with status 'done'\n",
      "  Created wheel for bs4: filename=bs4-0.0.1-py3-none-any.whl size=1273 sha256=4da02eecc57ef6532d8995a2a4f16be2115383a53a8cc6cd29b60385061d908f\n",
      "  Stored in directory: c:\\users\\sunny\\appdata\\local\\pip\\cache\\wheels\\75\\78\\21\\68b124549c9bdc94f822c02fb9aa3578a669843f9767776bca\n",
      "Successfully built bs4\n",
      "Installing collected packages: bs4\n",
      "Successfully installed bs4-0.0.1\n"
     ]
    }
   ],
   "source": [
    "!pip install bs4"
   ]
  },
  {
   "cell_type": "code",
   "execution_count": 11,
   "id": "65ef1095",
   "metadata": {},
   "outputs": [],
   "source": [
    "import numpy as np\n",
    "import pandas as pd\n",
    "import matplotlib.pyplot as plt\n",
    "%matplotlib inline"
   ]
  },
  {
   "cell_type": "code",
   "execution_count": 4,
   "id": "6110a6ca",
   "metadata": {},
   "outputs": [
    {
     "name": "stdout",
     "output_type": "stream",
     "text": [
      "1\n",
      "1\n"
     ]
    }
   ],
   "source": [
    "data = [1,2,3]\n",
    "arr = np.array(data)\n",
    "print(data[0])\n",
    "print(arr[0])"
   ]
  },
  {
   "cell_type": "code",
   "execution_count": 6,
   "id": "1d605d92",
   "metadata": {},
   "outputs": [
    {
     "name": "stdout",
     "output_type": "stream",
     "text": [
      "[1, 2, 3, 1, 2, 3]\n",
      "[2 4 6]\n"
     ]
    }
   ],
   "source": [
    "print(data+data)\n",
    "print(arr+arr)"
   ]
  },
  {
   "cell_type": "code",
   "execution_count": 7,
   "id": "80f20548",
   "metadata": {},
   "outputs": [
    {
     "name": "stdout",
     "output_type": "stream",
     "text": [
      "[1, 2, 3, 1, 2, 3, 1, 2, 3]\n",
      "[3 6 9]\n"
     ]
    }
   ],
   "source": [
    "print(data*3)\n",
    "print(arr*3)"
   ]
  },
  {
   "cell_type": "code",
   "execution_count": 8,
   "id": "33794f3a",
   "metadata": {},
   "outputs": [
    {
     "name": "stdout",
     "output_type": "stream",
     "text": [
      "[1 4 9]\n"
     ]
    }
   ],
   "source": [
    "print(arr*arr)"
   ]
  },
  {
   "cell_type": "code",
   "execution_count": 9,
   "id": "8b8e31ac",
   "metadata": {},
   "outputs": [
    {
     "name": "stdout",
     "output_type": "stream",
     "text": [
      "(3,)\n"
     ]
    }
   ],
   "source": [
    "print(arr.shape)"
   ]
  },
  {
   "cell_type": "code",
   "execution_count": 13,
   "id": "475348da",
   "metadata": {},
   "outputs": [
    {
     "name": "stdout",
     "output_type": "stream",
     "text": [
      "전체 영화의 갯수 :  10681\n"
     ]
    },
    {
     "name": "stderr",
     "output_type": "stream",
     "text": [
      "<ipython-input-13-2eca226df44d>:2: ParserWarning: Falling back to the 'python' engine because the 'c' engine does not support regex separators (separators > 1 char and different from '\\s+' are interpreted as regex); you can avoid this warning by specifying engine='python'.\n",
      "  movies = pd.read_csv('movies.txt', sep='::',header = None, names = name)\n"
     ]
    }
   ],
   "source": [
    "name = ['movie_id', 'title', 'genres']\n",
    "movies = pd.read_csv('movies.txt', sep='::',header = None, names = name)\n",
    "print('전체 영화의 갯수 : ', len(movies))"
   ]
  },
  {
   "cell_type": "code",
   "execution_count": 15,
   "id": "13e8f5b2",
   "metadata": {},
   "outputs": [
    {
     "data": {
      "text/html": [
       "<div>\n",
       "<style scoped>\n",
       "    .dataframe tbody tr th:only-of-type {\n",
       "        vertical-align: middle;\n",
       "    }\n",
       "\n",
       "    .dataframe tbody tr th {\n",
       "        vertical-align: top;\n",
       "    }\n",
       "\n",
       "    .dataframe thead th {\n",
       "        text-align: right;\n",
       "    }\n",
       "</style>\n",
       "<table border=\"1\" class=\"dataframe\">\n",
       "  <thead>\n",
       "    <tr style=\"text-align: right;\">\n",
       "      <th></th>\n",
       "      <th>movie_id</th>\n",
       "      <th>title</th>\n",
       "      <th>genres</th>\n",
       "    </tr>\n",
       "  </thead>\n",
       "  <tbody>\n",
       "    <tr>\n",
       "      <th>0</th>\n",
       "      <td>1</td>\n",
       "      <td>Toy Story (1995)</td>\n",
       "      <td>Adventure|Animation|Children|Comedy|Fantasy</td>\n",
       "    </tr>\n",
       "    <tr>\n",
       "      <th>1</th>\n",
       "      <td>2</td>\n",
       "      <td>Jumanji (1995)</td>\n",
       "      <td>Adventure|Children|Fantasy</td>\n",
       "    </tr>\n",
       "    <tr>\n",
       "      <th>2</th>\n",
       "      <td>3</td>\n",
       "      <td>Grumpier Old Men (1995)</td>\n",
       "      <td>Comedy|Romance</td>\n",
       "    </tr>\n",
       "    <tr>\n",
       "      <th>3</th>\n",
       "      <td>4</td>\n",
       "      <td>Waiting to Exhale (1995)</td>\n",
       "      <td>Comedy|Drama|Romance</td>\n",
       "    </tr>\n",
       "    <tr>\n",
       "      <th>4</th>\n",
       "      <td>5</td>\n",
       "      <td>Father of the Bride Part II (1995)</td>\n",
       "      <td>Comedy</td>\n",
       "    </tr>\n",
       "  </tbody>\n",
       "</table>\n",
       "</div>"
      ],
      "text/plain": [
       "   movie_id                               title  \\\n",
       "0         1                    Toy Story (1995)   \n",
       "1         2                      Jumanji (1995)   \n",
       "2         3             Grumpier Old Men (1995)   \n",
       "3         4            Waiting to Exhale (1995)   \n",
       "4         5  Father of the Bride Part II (1995)   \n",
       "\n",
       "                                        genres  \n",
       "0  Adventure|Animation|Children|Comedy|Fantasy  \n",
       "1                   Adventure|Children|Fantasy  \n",
       "2                               Comedy|Romance  \n",
       "3                         Comedy|Drama|Romance  \n",
       "4                                       Comedy  "
      ]
     },
     "execution_count": 15,
     "metadata": {},
     "output_type": "execute_result"
    }
   ],
   "source": [
    "movies.head()"
   ]
  },
  {
   "cell_type": "code",
   "execution_count": 16,
   "id": "baf8f394",
   "metadata": {},
   "outputs": [
    {
     "name": "stdout",
     "output_type": "stream",
     "text": [
      "전체 장르 수 :  21564\n"
     ]
    }
   ],
   "source": [
    "genres = []\n",
    "for genre in movies['genres']:\n",
    "    for i in genre.split('|'):\n",
    "        genres.append(i)\n",
    "        \n",
    "print('전체 장르 수 : ', len(genres))"
   ]
  },
  {
   "cell_type": "code",
   "execution_count": 20,
   "id": "d3c25c4a",
   "metadata": {},
   "outputs": [
    {
     "name": "stdout",
     "output_type": "stream",
     "text": [
      "유일한 장르 수:  20\n",
      "['Sci-Fi', 'Action', 'Horror', 'Documentary', 'Children', 'War', 'Drama', 'IMAX', 'Animation', 'Comedy', 'Fantasy', 'Crime', 'Romance', 'Film-Noir', 'Western', 'Adventure', 'Mystery', '(no genres listed)', 'Thriller', 'Musical']\n",
      "['(no genres listed)', 'Action', 'Adventure', 'Animation', 'Children', 'Comedy', 'Crime', 'Documentary', 'Drama', 'Fantasy', 'Film-Noir', 'Horror', 'IMAX', 'Musical', 'Mystery', 'Romance', 'Sci-Fi', 'Thriller', 'War', 'Western']\n"
     ]
    }
   ],
   "source": [
    "genres = set(genres)\n",
    "genres = list(genres)\n",
    "print('유일한 장르 수: ', len(genres))\n",
    "print(genres)\n",
    "sorted_genres = sorted(genres, reverse=False)\n",
    "print(sorted_genres)"
   ]
  },
  {
   "cell_type": "code",
   "execution_count": 22,
   "id": "d313293b",
   "metadata": {},
   "outputs": [
    {
     "name": "stdout",
     "output_type": "stream",
     "text": [
      "[[0. 0. 0. ... 0. 0. 0.]\n",
      " [0. 0. 0. ... 0. 0. 0.]\n",
      " [0. 0. 0. ... 0. 0. 0.]\n",
      " ...\n",
      " [0. 0. 0. ... 0. 0. 0.]\n",
      " [0. 0. 0. ... 0. 0. 0.]\n",
      " [0. 0. 0. ... 0. 0. 0.]]\n",
      "(10681, 20)\n"
     ]
    }
   ],
   "source": [
    "#장르별 영화 빈도 분석하기\n",
    "zero_data = np.zeros(((len(movies),len(genres))))\n",
    "print(zero_data)\n",
    "print(zero_data.shape)"
   ]
  },
  {
   "cell_type": "code",
   "execution_count": 24,
   "id": "8d633b10",
   "metadata": {},
   "outputs": [
    {
     "data": {
      "text/html": [
       "<div>\n",
       "<style scoped>\n",
       "    .dataframe tbody tr th:only-of-type {\n",
       "        vertical-align: middle;\n",
       "    }\n",
       "\n",
       "    .dataframe tbody tr th {\n",
       "        vertical-align: top;\n",
       "    }\n",
       "\n",
       "    .dataframe thead th {\n",
       "        text-align: right;\n",
       "    }\n",
       "</style>\n",
       "<table border=\"1\" class=\"dataframe\">\n",
       "  <thead>\n",
       "    <tr style=\"text-align: right;\">\n",
       "      <th></th>\n",
       "      <th>Sci-Fi</th>\n",
       "      <th>Action</th>\n",
       "      <th>Horror</th>\n",
       "      <th>Documentary</th>\n",
       "      <th>Children</th>\n",
       "      <th>War</th>\n",
       "      <th>Drama</th>\n",
       "      <th>IMAX</th>\n",
       "      <th>Animation</th>\n",
       "      <th>Comedy</th>\n",
       "      <th>Fantasy</th>\n",
       "      <th>Crime</th>\n",
       "      <th>Romance</th>\n",
       "      <th>Film-Noir</th>\n",
       "      <th>Western</th>\n",
       "      <th>Adventure</th>\n",
       "      <th>Mystery</th>\n",
       "      <th>(no genres listed)</th>\n",
       "      <th>Thriller</th>\n",
       "      <th>Musical</th>\n",
       "    </tr>\n",
       "  </thead>\n",
       "  <tbody>\n",
       "    <tr>\n",
       "      <th>0</th>\n",
       "      <td>0.0</td>\n",
       "      <td>0.0</td>\n",
       "      <td>0.0</td>\n",
       "      <td>0.0</td>\n",
       "      <td>0.0</td>\n",
       "      <td>0.0</td>\n",
       "      <td>0.0</td>\n",
       "      <td>0.0</td>\n",
       "      <td>0.0</td>\n",
       "      <td>0.0</td>\n",
       "      <td>0.0</td>\n",
       "      <td>0.0</td>\n",
       "      <td>0.0</td>\n",
       "      <td>0.0</td>\n",
       "      <td>0.0</td>\n",
       "      <td>0.0</td>\n",
       "      <td>0.0</td>\n",
       "      <td>0.0</td>\n",
       "      <td>0.0</td>\n",
       "      <td>0.0</td>\n",
       "    </tr>\n",
       "    <tr>\n",
       "      <th>1</th>\n",
       "      <td>0.0</td>\n",
       "      <td>0.0</td>\n",
       "      <td>0.0</td>\n",
       "      <td>0.0</td>\n",
       "      <td>0.0</td>\n",
       "      <td>0.0</td>\n",
       "      <td>0.0</td>\n",
       "      <td>0.0</td>\n",
       "      <td>0.0</td>\n",
       "      <td>0.0</td>\n",
       "      <td>0.0</td>\n",
       "      <td>0.0</td>\n",
       "      <td>0.0</td>\n",
       "      <td>0.0</td>\n",
       "      <td>0.0</td>\n",
       "      <td>0.0</td>\n",
       "      <td>0.0</td>\n",
       "      <td>0.0</td>\n",
       "      <td>0.0</td>\n",
       "      <td>0.0</td>\n",
       "    </tr>\n",
       "    <tr>\n",
       "      <th>2</th>\n",
       "      <td>0.0</td>\n",
       "      <td>0.0</td>\n",
       "      <td>0.0</td>\n",
       "      <td>0.0</td>\n",
       "      <td>0.0</td>\n",
       "      <td>0.0</td>\n",
       "      <td>0.0</td>\n",
       "      <td>0.0</td>\n",
       "      <td>0.0</td>\n",
       "      <td>0.0</td>\n",
       "      <td>0.0</td>\n",
       "      <td>0.0</td>\n",
       "      <td>0.0</td>\n",
       "      <td>0.0</td>\n",
       "      <td>0.0</td>\n",
       "      <td>0.0</td>\n",
       "      <td>0.0</td>\n",
       "      <td>0.0</td>\n",
       "      <td>0.0</td>\n",
       "      <td>0.0</td>\n",
       "    </tr>\n",
       "    <tr>\n",
       "      <th>3</th>\n",
       "      <td>0.0</td>\n",
       "      <td>0.0</td>\n",
       "      <td>0.0</td>\n",
       "      <td>0.0</td>\n",
       "      <td>0.0</td>\n",
       "      <td>0.0</td>\n",
       "      <td>0.0</td>\n",
       "      <td>0.0</td>\n",
       "      <td>0.0</td>\n",
       "      <td>0.0</td>\n",
       "      <td>0.0</td>\n",
       "      <td>0.0</td>\n",
       "      <td>0.0</td>\n",
       "      <td>0.0</td>\n",
       "      <td>0.0</td>\n",
       "      <td>0.0</td>\n",
       "      <td>0.0</td>\n",
       "      <td>0.0</td>\n",
       "      <td>0.0</td>\n",
       "      <td>0.0</td>\n",
       "    </tr>\n",
       "    <tr>\n",
       "      <th>4</th>\n",
       "      <td>0.0</td>\n",
       "      <td>0.0</td>\n",
       "      <td>0.0</td>\n",
       "      <td>0.0</td>\n",
       "      <td>0.0</td>\n",
       "      <td>0.0</td>\n",
       "      <td>0.0</td>\n",
       "      <td>0.0</td>\n",
       "      <td>0.0</td>\n",
       "      <td>0.0</td>\n",
       "      <td>0.0</td>\n",
       "      <td>0.0</td>\n",
       "      <td>0.0</td>\n",
       "      <td>0.0</td>\n",
       "      <td>0.0</td>\n",
       "      <td>0.0</td>\n",
       "      <td>0.0</td>\n",
       "      <td>0.0</td>\n",
       "      <td>0.0</td>\n",
       "      <td>0.0</td>\n",
       "    </tr>\n",
       "    <tr>\n",
       "      <th>...</th>\n",
       "      <td>...</td>\n",
       "      <td>...</td>\n",
       "      <td>...</td>\n",
       "      <td>...</td>\n",
       "      <td>...</td>\n",
       "      <td>...</td>\n",
       "      <td>...</td>\n",
       "      <td>...</td>\n",
       "      <td>...</td>\n",
       "      <td>...</td>\n",
       "      <td>...</td>\n",
       "      <td>...</td>\n",
       "      <td>...</td>\n",
       "      <td>...</td>\n",
       "      <td>...</td>\n",
       "      <td>...</td>\n",
       "      <td>...</td>\n",
       "      <td>...</td>\n",
       "      <td>...</td>\n",
       "      <td>...</td>\n",
       "    </tr>\n",
       "    <tr>\n",
       "      <th>10676</th>\n",
       "      <td>0.0</td>\n",
       "      <td>0.0</td>\n",
       "      <td>0.0</td>\n",
       "      <td>0.0</td>\n",
       "      <td>0.0</td>\n",
       "      <td>0.0</td>\n",
       "      <td>0.0</td>\n",
       "      <td>0.0</td>\n",
       "      <td>0.0</td>\n",
       "      <td>0.0</td>\n",
       "      <td>0.0</td>\n",
       "      <td>0.0</td>\n",
       "      <td>0.0</td>\n",
       "      <td>0.0</td>\n",
       "      <td>0.0</td>\n",
       "      <td>0.0</td>\n",
       "      <td>0.0</td>\n",
       "      <td>0.0</td>\n",
       "      <td>0.0</td>\n",
       "      <td>0.0</td>\n",
       "    </tr>\n",
       "    <tr>\n",
       "      <th>10677</th>\n",
       "      <td>0.0</td>\n",
       "      <td>0.0</td>\n",
       "      <td>0.0</td>\n",
       "      <td>0.0</td>\n",
       "      <td>0.0</td>\n",
       "      <td>0.0</td>\n",
       "      <td>0.0</td>\n",
       "      <td>0.0</td>\n",
       "      <td>0.0</td>\n",
       "      <td>0.0</td>\n",
       "      <td>0.0</td>\n",
       "      <td>0.0</td>\n",
       "      <td>0.0</td>\n",
       "      <td>0.0</td>\n",
       "      <td>0.0</td>\n",
       "      <td>0.0</td>\n",
       "      <td>0.0</td>\n",
       "      <td>0.0</td>\n",
       "      <td>0.0</td>\n",
       "      <td>0.0</td>\n",
       "    </tr>\n",
       "    <tr>\n",
       "      <th>10678</th>\n",
       "      <td>0.0</td>\n",
       "      <td>0.0</td>\n",
       "      <td>0.0</td>\n",
       "      <td>0.0</td>\n",
       "      <td>0.0</td>\n",
       "      <td>0.0</td>\n",
       "      <td>0.0</td>\n",
       "      <td>0.0</td>\n",
       "      <td>0.0</td>\n",
       "      <td>0.0</td>\n",
       "      <td>0.0</td>\n",
       "      <td>0.0</td>\n",
       "      <td>0.0</td>\n",
       "      <td>0.0</td>\n",
       "      <td>0.0</td>\n",
       "      <td>0.0</td>\n",
       "      <td>0.0</td>\n",
       "      <td>0.0</td>\n",
       "      <td>0.0</td>\n",
       "      <td>0.0</td>\n",
       "    </tr>\n",
       "    <tr>\n",
       "      <th>10679</th>\n",
       "      <td>0.0</td>\n",
       "      <td>0.0</td>\n",
       "      <td>0.0</td>\n",
       "      <td>0.0</td>\n",
       "      <td>0.0</td>\n",
       "      <td>0.0</td>\n",
       "      <td>0.0</td>\n",
       "      <td>0.0</td>\n",
       "      <td>0.0</td>\n",
       "      <td>0.0</td>\n",
       "      <td>0.0</td>\n",
       "      <td>0.0</td>\n",
       "      <td>0.0</td>\n",
       "      <td>0.0</td>\n",
       "      <td>0.0</td>\n",
       "      <td>0.0</td>\n",
       "      <td>0.0</td>\n",
       "      <td>0.0</td>\n",
       "      <td>0.0</td>\n",
       "      <td>0.0</td>\n",
       "    </tr>\n",
       "    <tr>\n",
       "      <th>10680</th>\n",
       "      <td>0.0</td>\n",
       "      <td>0.0</td>\n",
       "      <td>0.0</td>\n",
       "      <td>0.0</td>\n",
       "      <td>0.0</td>\n",
       "      <td>0.0</td>\n",
       "      <td>0.0</td>\n",
       "      <td>0.0</td>\n",
       "      <td>0.0</td>\n",
       "      <td>0.0</td>\n",
       "      <td>0.0</td>\n",
       "      <td>0.0</td>\n",
       "      <td>0.0</td>\n",
       "      <td>0.0</td>\n",
       "      <td>0.0</td>\n",
       "      <td>0.0</td>\n",
       "      <td>0.0</td>\n",
       "      <td>0.0</td>\n",
       "      <td>0.0</td>\n",
       "      <td>0.0</td>\n",
       "    </tr>\n",
       "  </tbody>\n",
       "</table>\n",
       "<p>10681 rows × 20 columns</p>\n",
       "</div>"
      ],
      "text/plain": [
       "       Sci-Fi  Action  Horror  Documentary  Children  War  Drama  IMAX  \\\n",
       "0         0.0     0.0     0.0          0.0       0.0  0.0    0.0   0.0   \n",
       "1         0.0     0.0     0.0          0.0       0.0  0.0    0.0   0.0   \n",
       "2         0.0     0.0     0.0          0.0       0.0  0.0    0.0   0.0   \n",
       "3         0.0     0.0     0.0          0.0       0.0  0.0    0.0   0.0   \n",
       "4         0.0     0.0     0.0          0.0       0.0  0.0    0.0   0.0   \n",
       "...       ...     ...     ...          ...       ...  ...    ...   ...   \n",
       "10676     0.0     0.0     0.0          0.0       0.0  0.0    0.0   0.0   \n",
       "10677     0.0     0.0     0.0          0.0       0.0  0.0    0.0   0.0   \n",
       "10678     0.0     0.0     0.0          0.0       0.0  0.0    0.0   0.0   \n",
       "10679     0.0     0.0     0.0          0.0       0.0  0.0    0.0   0.0   \n",
       "10680     0.0     0.0     0.0          0.0       0.0  0.0    0.0   0.0   \n",
       "\n",
       "       Animation  Comedy  Fantasy  Crime  Romance  Film-Noir  Western  \\\n",
       "0            0.0     0.0      0.0    0.0      0.0        0.0      0.0   \n",
       "1            0.0     0.0      0.0    0.0      0.0        0.0      0.0   \n",
       "2            0.0     0.0      0.0    0.0      0.0        0.0      0.0   \n",
       "3            0.0     0.0      0.0    0.0      0.0        0.0      0.0   \n",
       "4            0.0     0.0      0.0    0.0      0.0        0.0      0.0   \n",
       "...          ...     ...      ...    ...      ...        ...      ...   \n",
       "10676        0.0     0.0      0.0    0.0      0.0        0.0      0.0   \n",
       "10677        0.0     0.0      0.0    0.0      0.0        0.0      0.0   \n",
       "10678        0.0     0.0      0.0    0.0      0.0        0.0      0.0   \n",
       "10679        0.0     0.0      0.0    0.0      0.0        0.0      0.0   \n",
       "10680        0.0     0.0      0.0    0.0      0.0        0.0      0.0   \n",
       "\n",
       "       Adventure  Mystery  (no genres listed)  Thriller  Musical  \n",
       "0            0.0      0.0                 0.0       0.0      0.0  \n",
       "1            0.0      0.0                 0.0       0.0      0.0  \n",
       "2            0.0      0.0                 0.0       0.0      0.0  \n",
       "3            0.0      0.0                 0.0       0.0      0.0  \n",
       "4            0.0      0.0                 0.0       0.0      0.0  \n",
       "...          ...      ...                 ...       ...      ...  \n",
       "10676        0.0      0.0                 0.0       0.0      0.0  \n",
       "10677        0.0      0.0                 0.0       0.0      0.0  \n",
       "10678        0.0      0.0                 0.0       0.0      0.0  \n",
       "10679        0.0      0.0                 0.0       0.0      0.0  \n",
       "10680        0.0      0.0                 0.0       0.0      0.0  \n",
       "\n",
       "[10681 rows x 20 columns]"
      ]
     },
     "execution_count": 24,
     "metadata": {},
     "output_type": "execute_result"
    }
   ],
   "source": [
    "movie_genres = pd.DataFrame(zero_data, columns=genres)\n",
    "movie_genres"
   ]
  },
  {
   "cell_type": "code",
   "execution_count": 25,
   "id": "5218aabc",
   "metadata": {},
   "outputs": [
    {
     "data": {
      "text/html": [
       "<div>\n",
       "<style scoped>\n",
       "    .dataframe tbody tr th:only-of-type {\n",
       "        vertical-align: middle;\n",
       "    }\n",
       "\n",
       "    .dataframe tbody tr th {\n",
       "        vertical-align: top;\n",
       "    }\n",
       "\n",
       "    .dataframe thead th {\n",
       "        text-align: right;\n",
       "    }\n",
       "</style>\n",
       "<table border=\"1\" class=\"dataframe\">\n",
       "  <thead>\n",
       "    <tr style=\"text-align: right;\">\n",
       "      <th></th>\n",
       "      <th>Sci-Fi</th>\n",
       "      <th>Action</th>\n",
       "      <th>Horror</th>\n",
       "      <th>Documentary</th>\n",
       "      <th>Children</th>\n",
       "      <th>War</th>\n",
       "      <th>Drama</th>\n",
       "      <th>IMAX</th>\n",
       "      <th>Animation</th>\n",
       "      <th>Comedy</th>\n",
       "      <th>Fantasy</th>\n",
       "      <th>Crime</th>\n",
       "      <th>Romance</th>\n",
       "      <th>Film-Noir</th>\n",
       "      <th>Western</th>\n",
       "      <th>Adventure</th>\n",
       "      <th>Mystery</th>\n",
       "      <th>(no genres listed)</th>\n",
       "      <th>Thriller</th>\n",
       "      <th>Musical</th>\n",
       "    </tr>\n",
       "  </thead>\n",
       "  <tbody>\n",
       "    <tr>\n",
       "      <th>0</th>\n",
       "      <td>0.0</td>\n",
       "      <td>0.0</td>\n",
       "      <td>0.0</td>\n",
       "      <td>0.0</td>\n",
       "      <td>1.0</td>\n",
       "      <td>0.0</td>\n",
       "      <td>0.0</td>\n",
       "      <td>0.0</td>\n",
       "      <td>1.0</td>\n",
       "      <td>1.0</td>\n",
       "      <td>1.0</td>\n",
       "      <td>0.0</td>\n",
       "      <td>0.0</td>\n",
       "      <td>0.0</td>\n",
       "      <td>0.0</td>\n",
       "      <td>1.0</td>\n",
       "      <td>0.0</td>\n",
       "      <td>0.0</td>\n",
       "      <td>0.0</td>\n",
       "      <td>0.0</td>\n",
       "    </tr>\n",
       "    <tr>\n",
       "      <th>1</th>\n",
       "      <td>0.0</td>\n",
       "      <td>0.0</td>\n",
       "      <td>0.0</td>\n",
       "      <td>0.0</td>\n",
       "      <td>1.0</td>\n",
       "      <td>0.0</td>\n",
       "      <td>0.0</td>\n",
       "      <td>0.0</td>\n",
       "      <td>0.0</td>\n",
       "      <td>0.0</td>\n",
       "      <td>1.0</td>\n",
       "      <td>0.0</td>\n",
       "      <td>0.0</td>\n",
       "      <td>0.0</td>\n",
       "      <td>0.0</td>\n",
       "      <td>1.0</td>\n",
       "      <td>0.0</td>\n",
       "      <td>0.0</td>\n",
       "      <td>0.0</td>\n",
       "      <td>0.0</td>\n",
       "    </tr>\n",
       "    <tr>\n",
       "      <th>2</th>\n",
       "      <td>0.0</td>\n",
       "      <td>0.0</td>\n",
       "      <td>0.0</td>\n",
       "      <td>0.0</td>\n",
       "      <td>0.0</td>\n",
       "      <td>0.0</td>\n",
       "      <td>0.0</td>\n",
       "      <td>0.0</td>\n",
       "      <td>0.0</td>\n",
       "      <td>1.0</td>\n",
       "      <td>0.0</td>\n",
       "      <td>0.0</td>\n",
       "      <td>1.0</td>\n",
       "      <td>0.0</td>\n",
       "      <td>0.0</td>\n",
       "      <td>0.0</td>\n",
       "      <td>0.0</td>\n",
       "      <td>0.0</td>\n",
       "      <td>0.0</td>\n",
       "      <td>0.0</td>\n",
       "    </tr>\n",
       "    <tr>\n",
       "      <th>3</th>\n",
       "      <td>0.0</td>\n",
       "      <td>0.0</td>\n",
       "      <td>0.0</td>\n",
       "      <td>0.0</td>\n",
       "      <td>0.0</td>\n",
       "      <td>0.0</td>\n",
       "      <td>1.0</td>\n",
       "      <td>0.0</td>\n",
       "      <td>0.0</td>\n",
       "      <td>1.0</td>\n",
       "      <td>0.0</td>\n",
       "      <td>0.0</td>\n",
       "      <td>1.0</td>\n",
       "      <td>0.0</td>\n",
       "      <td>0.0</td>\n",
       "      <td>0.0</td>\n",
       "      <td>0.0</td>\n",
       "      <td>0.0</td>\n",
       "      <td>0.0</td>\n",
       "      <td>0.0</td>\n",
       "    </tr>\n",
       "    <tr>\n",
       "      <th>4</th>\n",
       "      <td>0.0</td>\n",
       "      <td>0.0</td>\n",
       "      <td>0.0</td>\n",
       "      <td>0.0</td>\n",
       "      <td>0.0</td>\n",
       "      <td>0.0</td>\n",
       "      <td>0.0</td>\n",
       "      <td>0.0</td>\n",
       "      <td>0.0</td>\n",
       "      <td>1.0</td>\n",
       "      <td>0.0</td>\n",
       "      <td>0.0</td>\n",
       "      <td>0.0</td>\n",
       "      <td>0.0</td>\n",
       "      <td>0.0</td>\n",
       "      <td>0.0</td>\n",
       "      <td>0.0</td>\n",
       "      <td>0.0</td>\n",
       "      <td>0.0</td>\n",
       "      <td>0.0</td>\n",
       "    </tr>\n",
       "    <tr>\n",
       "      <th>...</th>\n",
       "      <td>...</td>\n",
       "      <td>...</td>\n",
       "      <td>...</td>\n",
       "      <td>...</td>\n",
       "      <td>...</td>\n",
       "      <td>...</td>\n",
       "      <td>...</td>\n",
       "      <td>...</td>\n",
       "      <td>...</td>\n",
       "      <td>...</td>\n",
       "      <td>...</td>\n",
       "      <td>...</td>\n",
       "      <td>...</td>\n",
       "      <td>...</td>\n",
       "      <td>...</td>\n",
       "      <td>...</td>\n",
       "      <td>...</td>\n",
       "      <td>...</td>\n",
       "      <td>...</td>\n",
       "      <td>...</td>\n",
       "    </tr>\n",
       "    <tr>\n",
       "      <th>10676</th>\n",
       "      <td>0.0</td>\n",
       "      <td>0.0</td>\n",
       "      <td>0.0</td>\n",
       "      <td>0.0</td>\n",
       "      <td>1.0</td>\n",
       "      <td>0.0</td>\n",
       "      <td>0.0</td>\n",
       "      <td>0.0</td>\n",
       "      <td>0.0</td>\n",
       "      <td>1.0</td>\n",
       "      <td>0.0</td>\n",
       "      <td>0.0</td>\n",
       "      <td>0.0</td>\n",
       "      <td>0.0</td>\n",
       "      <td>0.0</td>\n",
       "      <td>1.0</td>\n",
       "      <td>0.0</td>\n",
       "      <td>0.0</td>\n",
       "      <td>0.0</td>\n",
       "      <td>0.0</td>\n",
       "    </tr>\n",
       "    <tr>\n",
       "      <th>10677</th>\n",
       "      <td>0.0</td>\n",
       "      <td>0.0</td>\n",
       "      <td>0.0</td>\n",
       "      <td>0.0</td>\n",
       "      <td>0.0</td>\n",
       "      <td>0.0</td>\n",
       "      <td>1.0</td>\n",
       "      <td>0.0</td>\n",
       "      <td>0.0</td>\n",
       "      <td>0.0</td>\n",
       "      <td>0.0</td>\n",
       "      <td>1.0</td>\n",
       "      <td>1.0</td>\n",
       "      <td>0.0</td>\n",
       "      <td>0.0</td>\n",
       "      <td>0.0</td>\n",
       "      <td>0.0</td>\n",
       "      <td>0.0</td>\n",
       "      <td>0.0</td>\n",
       "      <td>0.0</td>\n",
       "    </tr>\n",
       "    <tr>\n",
       "      <th>10678</th>\n",
       "      <td>0.0</td>\n",
       "      <td>0.0</td>\n",
       "      <td>0.0</td>\n",
       "      <td>0.0</td>\n",
       "      <td>0.0</td>\n",
       "      <td>0.0</td>\n",
       "      <td>1.0</td>\n",
       "      <td>0.0</td>\n",
       "      <td>0.0</td>\n",
       "      <td>1.0</td>\n",
       "      <td>0.0</td>\n",
       "      <td>0.0</td>\n",
       "      <td>0.0</td>\n",
       "      <td>0.0</td>\n",
       "      <td>0.0</td>\n",
       "      <td>0.0</td>\n",
       "      <td>0.0</td>\n",
       "      <td>0.0</td>\n",
       "      <td>0.0</td>\n",
       "      <td>0.0</td>\n",
       "    </tr>\n",
       "    <tr>\n",
       "      <th>10679</th>\n",
       "      <td>0.0</td>\n",
       "      <td>0.0</td>\n",
       "      <td>0.0</td>\n",
       "      <td>0.0</td>\n",
       "      <td>0.0</td>\n",
       "      <td>0.0</td>\n",
       "      <td>1.0</td>\n",
       "      <td>0.0</td>\n",
       "      <td>0.0</td>\n",
       "      <td>0.0</td>\n",
       "      <td>0.0</td>\n",
       "      <td>0.0</td>\n",
       "      <td>1.0</td>\n",
       "      <td>0.0</td>\n",
       "      <td>0.0</td>\n",
       "      <td>0.0</td>\n",
       "      <td>0.0</td>\n",
       "      <td>0.0</td>\n",
       "      <td>0.0</td>\n",
       "      <td>0.0</td>\n",
       "    </tr>\n",
       "    <tr>\n",
       "      <th>10680</th>\n",
       "      <td>0.0</td>\n",
       "      <td>0.0</td>\n",
       "      <td>0.0</td>\n",
       "      <td>0.0</td>\n",
       "      <td>0.0</td>\n",
       "      <td>0.0</td>\n",
       "      <td>0.0</td>\n",
       "      <td>0.0</td>\n",
       "      <td>0.0</td>\n",
       "      <td>1.0</td>\n",
       "      <td>0.0</td>\n",
       "      <td>0.0</td>\n",
       "      <td>0.0</td>\n",
       "      <td>0.0</td>\n",
       "      <td>0.0</td>\n",
       "      <td>0.0</td>\n",
       "      <td>0.0</td>\n",
       "      <td>0.0</td>\n",
       "      <td>0.0</td>\n",
       "      <td>0.0</td>\n",
       "    </tr>\n",
       "  </tbody>\n",
       "</table>\n",
       "<p>10681 rows × 20 columns</p>\n",
       "</div>"
      ],
      "text/plain": [
       "       Sci-Fi  Action  Horror  Documentary  Children  War  Drama  IMAX  \\\n",
       "0         0.0     0.0     0.0          0.0       1.0  0.0    0.0   0.0   \n",
       "1         0.0     0.0     0.0          0.0       1.0  0.0    0.0   0.0   \n",
       "2         0.0     0.0     0.0          0.0       0.0  0.0    0.0   0.0   \n",
       "3         0.0     0.0     0.0          0.0       0.0  0.0    1.0   0.0   \n",
       "4         0.0     0.0     0.0          0.0       0.0  0.0    0.0   0.0   \n",
       "...       ...     ...     ...          ...       ...  ...    ...   ...   \n",
       "10676     0.0     0.0     0.0          0.0       1.0  0.0    0.0   0.0   \n",
       "10677     0.0     0.0     0.0          0.0       0.0  0.0    1.0   0.0   \n",
       "10678     0.0     0.0     0.0          0.0       0.0  0.0    1.0   0.0   \n",
       "10679     0.0     0.0     0.0          0.0       0.0  0.0    1.0   0.0   \n",
       "10680     0.0     0.0     0.0          0.0       0.0  0.0    0.0   0.0   \n",
       "\n",
       "       Animation  Comedy  Fantasy  Crime  Romance  Film-Noir  Western  \\\n",
       "0            1.0     1.0      1.0    0.0      0.0        0.0      0.0   \n",
       "1            0.0     0.0      1.0    0.0      0.0        0.0      0.0   \n",
       "2            0.0     1.0      0.0    0.0      1.0        0.0      0.0   \n",
       "3            0.0     1.0      0.0    0.0      1.0        0.0      0.0   \n",
       "4            0.0     1.0      0.0    0.0      0.0        0.0      0.0   \n",
       "...          ...     ...      ...    ...      ...        ...      ...   \n",
       "10676        0.0     1.0      0.0    0.0      0.0        0.0      0.0   \n",
       "10677        0.0     0.0      0.0    1.0      1.0        0.0      0.0   \n",
       "10678        0.0     1.0      0.0    0.0      0.0        0.0      0.0   \n",
       "10679        0.0     0.0      0.0    0.0      1.0        0.0      0.0   \n",
       "10680        0.0     1.0      0.0    0.0      0.0        0.0      0.0   \n",
       "\n",
       "       Adventure  Mystery  (no genres listed)  Thriller  Musical  \n",
       "0            1.0      0.0                 0.0       0.0      0.0  \n",
       "1            1.0      0.0                 0.0       0.0      0.0  \n",
       "2            0.0      0.0                 0.0       0.0      0.0  \n",
       "3            0.0      0.0                 0.0       0.0      0.0  \n",
       "4            0.0      0.0                 0.0       0.0      0.0  \n",
       "...          ...      ...                 ...       ...      ...  \n",
       "10676        1.0      0.0                 0.0       0.0      0.0  \n",
       "10677        0.0      0.0                 0.0       0.0      0.0  \n",
       "10678        0.0      0.0                 0.0       0.0      0.0  \n",
       "10679        0.0      0.0                 0.0       0.0      0.0  \n",
       "10680        0.0      0.0                 0.0       0.0      0.0  \n",
       "\n",
       "[10681 rows x 20 columns]"
      ]
     },
     "execution_count": 25,
     "metadata": {},
     "output_type": "execute_result"
    }
   ],
   "source": [
    "for i,j in enumerate(movies.genres):\n",
    "    movie_genres.loc[i,j.split('|')] = 1\n",
    "movie_genres"
   ]
  },
  {
   "cell_type": "code",
   "execution_count": 26,
   "id": "44aa7233",
   "metadata": {},
   "outputs": [
    {
     "name": "stdout",
     "output_type": "stream",
     "text": [
      "word_counter\n",
      "Sci-Fi                 754.0\n",
      "Action                1473.0\n",
      "Horror                1013.0\n",
      "Documentary            482.0\n",
      "Children               528.0\n",
      "War                    511.0\n",
      "Drama                 5339.0\n",
      "IMAX                    29.0\n",
      "Animation              286.0\n",
      "Comedy                3703.0\n",
      "Fantasy                543.0\n",
      "Crime                 1118.0\n",
      "Romance               1685.0\n",
      "Film-Noir              148.0\n",
      "Western                275.0\n",
      "Adventure             1025.0\n",
      "Mystery                509.0\n",
      "(no genres listed)       1.0\n",
      "Thriller              1706.0\n",
      "Musical                436.0\n",
      "dtype: float64\n"
     ]
    }
   ],
   "source": [
    "word_counter = movie_genres.sum()\n",
    "print('word_counter')\n",
    "print(word_counter)"
   ]
  },
  {
   "cell_type": "code",
   "execution_count": 27,
   "id": "7fc41ec7",
   "metadata": {},
   "outputs": [
    {
     "data": {
      "text/plain": [
       "<function matplotlib.pyplot.show(close=None, block=None)>"
      ]
     },
     "execution_count": 27,
     "metadata": {},
     "output_type": "execute_result"
    },
    {
     "data": {
      "image/png": "[encoded data removed]",
      "text/plain": [
       "<Figure size 432x288 with 1 Axes>"
      ]
     },
     "metadata": {
      "needs_background": "light"
     },
     "output_type": "display_data"
    }
   ],
   "source": [
    "word_counter.plot(kind = 'barh', title='movie word counter')\n",
    "plt.show"
   ]
  },
  {
   "cell_type": "code",
   "execution_count": 28,
   "id": "514ce015",
   "metadata": {},
   "outputs": [
    {
     "data": {
      "image/png": "[encoded data removed]",
      "text/plain": [
       "<Figure size 432x288 with 1 Axes>"
      ]
     },
     "metadata": {
      "needs_background": "light"
     },
     "output_type": "display_data"
    }
   ],
   "source": [
    "word_counter.sort_values().plot(kind='barh', title='movie word counter')\n",
    "plt.show()"
   ]
  },
  {
   "cell_type": "code",
   "execution_count": 30,
   "id": "720e276c",
   "metadata": {},
   "outputs": [
    {
     "data": {
      "text/html": [
       "<div>\n",
       "<style scoped>\n",
       "    .dataframe tbody tr th:only-of-type {\n",
       "        vertical-align: middle;\n",
       "    }\n",
       "\n",
       "    .dataframe tbody tr th {\n",
       "        vertical-align: top;\n",
       "    }\n",
       "\n",
       "    .dataframe thead th {\n",
       "        text-align: right;\n",
       "    }\n",
       "</style>\n",
       "<table border=\"1\" class=\"dataframe\">\n",
       "  <thead>\n",
       "    <tr style=\"text-align: right;\">\n",
       "      <th></th>\n",
       "      <th>01/01</th>\n",
       "      <th>01/02</th>\n",
       "      <th>01/03</th>\n",
       "      <th>01/04</th>\n",
       "    </tr>\n",
       "  </thead>\n",
       "  <tbody>\n",
       "    <tr>\n",
       "      <th>서울</th>\n",
       "      <td>2</td>\n",
       "      <td>-5</td>\n",
       "      <td>1</td>\n",
       "      <td>-3</td>\n",
       "    </tr>\n",
       "    <tr>\n",
       "      <th>대전</th>\n",
       "      <td>2</td>\n",
       "      <td>0</td>\n",
       "      <td>4</td>\n",
       "      <td>1</td>\n",
       "    </tr>\n",
       "    <tr>\n",
       "      <th>대구</th>\n",
       "      <td>1</td>\n",
       "      <td>-1</td>\n",
       "      <td>0</td>\n",
       "      <td>2</td>\n",
       "    </tr>\n",
       "    <tr>\n",
       "      <th>부산</th>\n",
       "      <td>4</td>\n",
       "      <td>-3</td>\n",
       "      <td>-2</td>\n",
       "      <td>3</td>\n",
       "    </tr>\n",
       "  </tbody>\n",
       "</table>\n",
       "</div>"
      ],
      "text/plain": [
       "    01/01  01/02  01/03  01/04\n",
       "서울      2     -5      1     -3\n",
       "대전      2      0      4      1\n",
       "대구      1     -1      0      2\n",
       "부산      4     -3     -2      3"
      ]
     },
     "execution_count": 30,
     "metadata": {},
     "output_type": "execute_result"
    }
   ],
   "source": [
    "#날씨 데이터 구하기\n",
    "\n",
    "data = pd.DataFrame({'01/01':[2,2,1,4], '01/02':[-5,0,-1,-3], '01/03':[1,4,0,-2],'01/04':[-3,1,2,3]}, index = ['서울', '대전', '대구', '부산'])\n",
    "data"
   ]
  },
  {
   "cell_type": "code",
   "execution_count": 31,
   "id": "66c582da",
   "metadata": {},
   "outputs": [
    {
     "name": "stdout",
     "output_type": "stream",
     "text": [
      "01/01    4\n",
      "01/02    4\n",
      "01/03    4\n",
      "01/04    4\n",
      "dtype: int64\n"
     ]
    }
   ],
   "source": [
    "print(data.count())"
   ]
  },
  {
   "cell_type": "code",
   "execution_count": 32,
   "id": "88ff29ee",
   "metadata": {},
   "outputs": [
    {
     "name": "stdout",
     "output_type": "stream",
     "text": [
      "서울    4\n",
      "대전    4\n",
      "대구    4\n",
      "부산    4\n",
      "dtype: int64\n"
     ]
    }
   ],
   "source": [
    "print(data.count(axis=1))"
   ]
  },
  {
   "cell_type": "code",
   "execution_count": 33,
   "id": "88f360be",
   "metadata": {},
   "outputs": [
    {
     "name": "stdout",
     "output_type": "stream",
     "text": [
      "01/01    2.25\n",
      "01/02   -2.25\n",
      "01/03    0.75\n",
      "01/04    0.75\n",
      "dtype: float64\n"
     ]
    }
   ],
   "source": [
    "print(data.mean())"
   ]
  },
  {
   "cell_type": "code",
   "execution_count": 34,
   "id": "3784f9d1",
   "metadata": {},
   "outputs": [
    {
     "name": "stdout",
     "output_type": "stream",
     "text": [
      "서울   -1.25\n",
      "대전    1.75\n",
      "대구    0.50\n",
      "부산    0.50\n",
      "dtype: float64\n"
     ]
    }
   ],
   "source": [
    "print(data.mean(axis=1))"
   ]
  },
  {
   "cell_type": "code",
   "execution_count": 35,
   "id": "26781318",
   "metadata": {},
   "outputs": [
    {
     "name": "stdout",
     "output_type": "stream",
     "text": [
      "01/01    4\n",
      "01/02    0\n",
      "01/03    4\n",
      "01/04    3\n",
      "dtype: int64\n"
     ]
    }
   ],
   "source": [
    "print(data.max())"
   ]
  },
  {
   "cell_type": "code",
   "execution_count": 36,
   "id": "91a9ed91",
   "metadata": {},
   "outputs": [
    {
     "name": "stdout",
     "output_type": "stream",
     "text": [
      "서울    2\n",
      "대전    4\n",
      "대구    2\n",
      "부산    4\n",
      "dtype: int64\n"
     ]
    }
   ],
   "source": [
    "print(data.max(axis=1))"
   ]
  },
  {
   "cell_type": "markdown",
   "id": "c0a4027a",
   "metadata": {},
   "source": [
    "### 미드 텍스트 파일 가공"
   ]
  },
  {
   "cell_type": "code",
   "execution_count": 17,
   "id": "a76c967d",
   "metadata": {},
   "outputs": [],
   "source": [
    "import os, re, codecs"
   ]
  },
  {
   "cell_type": "code",
   "execution_count": 20,
   "id": "e96383f3",
   "metadata": {},
   "outputs": [],
   "source": [
    "os.chdir(r'C:\\Users\\sunny\\Desktop\\python')"
   ]
  },
  {
   "cell_type": "code",
   "execution_count": 23,
   "id": "142fe11c",
   "metadata": {},
   "outputs": [
    {
     "name": "stdout",
     "output_type": "stream",
     "text": [
      "The One Where Monica Gets a New Roommate (The Pilot-The Uncut Version)\r\n",
      "Written by: Marta Kauffman &\n"
     ]
    }
   ],
   "source": [
    "f = codecs.open('friends101.txt', 'r', encoding = 'utf-8')\n",
    "sc = f.read()\n",
    "print(sc[:100])"
   ]
  },
  {
   "cell_type": "code",
   "execution_count": 25,
   "id": "20cfe524",
   "metadata": {},
   "outputs": [
    {
     "name": "stdout",
     "output_type": "stream",
     "text": [
      "[\"Monica: There's nothing to tell! He's just some guy I work with!\\r\", \"Monica: Okay, everybody relax. This is not even a date. It's just two people going out to dinner and- not having sex.\\r\", \"Monica: And they weren't looking at you before?!\\r\"]\n"
     ]
    }
   ],
   "source": [
    "# Monica 대사만 추출\n",
    "\n",
    "sc_monica = re.findall(r'Monica:.+', sc)\n",
    "print(sc_monica[:3])"
   ]
  },
  {
   "cell_type": "code",
   "execution_count": 27,
   "id": "1aab330c",
   "metadata": {},
   "outputs": [
    {
     "name": "stdout",
     "output_type": "stream",
     "text": [
      "Monica: There's nothing to tell! He's just some guy I work with!\r\n",
      "Monica: Okay, everybody relax. This is not even a date. It's just two people going out to dinner and- not having sex.\r\n",
      "Monica: And they weren't looking at you before?!\r\n"
     ]
    }
   ],
   "source": [
    "#print()함수를 사용하여 보기좋게 출력\n",
    "\n",
    "for item in sc_monica[:3]:\n",
    "    print(item)\n",
    "\n",
    "f.close()"
   ]
  },
  {
   "cell_type": "code",
   "execution_count": 28,
   "id": "46779e4b",
   "metadata": {},
   "outputs": [],
   "source": [
    "f = open('monica.txt', 'w', encoding = 'utf-8')"
   ]
  },
  {
   "cell_type": "code",
   "execution_count": 29,
   "id": "db4d6594",
   "metadata": {},
   "outputs": [],
   "source": [
    "monica = ''\n",
    "for i in sc_monica:\n",
    "    monica += i"
   ]
  },
  {
   "cell_type": "code",
   "execution_count": 31,
   "id": "36d62abe",
   "metadata": {},
   "outputs": [
    {
     "data": {
      "text/plain": [
       "4615"
      ]
     },
     "execution_count": 31,
     "metadata": {},
     "output_type": "execute_result"
    }
   ],
   "source": [
    "f.write(monica)"
   ]
  },
  {
   "cell_type": "code",
   "execution_count": 32,
   "id": "05b5686f",
   "metadata": {},
   "outputs": [],
   "source": [
    "f.close()"
   ]
  },
  {
   "cell_type": "code",
   "execution_count": 43,
   "id": "31f76d83",
   "metadata": {},
   "outputs": [
    {
     "name": "stdout",
     "output_type": "stream",
     "text": [
      "['Monica', 'Frannie', 'by', 'me', 'Phoebe', 'Ross', 'Rachel', 'Joey', 'Note', 'Customer', 'Chandler', 'Scene', 'All', 'Paul', 'Waitress']\n"
     ]
    }
   ],
   "source": [
    "# 등징인물 리스트 만들기\n",
    "\n",
    "char = re.compile(r'[A-z][a-z]+:')\n",
    "temp = set(re.findall(char,sc))\n",
    "y = list(temp)\n",
    "\n",
    "all_char = [i[:-1] for i in y]\n",
    "print(all_char)\n",
    "    "
   ]
  },
  {
   "cell_type": "code",
   "execution_count": 46,
   "id": "1ee6f38b",
   "metadata": {},
   "outputs": [
    {
     "name": "stdout",
     "output_type": "stream",
     "text": [
      "['(The Pilot-The Uncut Version', '(Note: The previously unseen parts of this episode are shown in blue text', '.)', '(They all stare, bemused', '.)', '(mortified) Hi', '(explaining to the others) Carol moved her stuff out today', '(to Ross) Let me get you some coffee', '(She starts to pluck at the air just in front of Ross', '.)']\n"
     ]
    }
   ],
   "source": [
    "# 지문만 추출\n",
    "\n",
    "sc_dir = re.findall(r'\\([A-Za-z].+[a-z]|\\.\\)', sc)\n",
    "print(sc_dir[:10])"
   ]
  },
  {
   "cell_type": "code",
   "execution_count": 49,
   "id": "bf5d6fbd",
   "metadata": {},
   "outputs": [],
   "source": [
    "f.close()"
   ]
  },
  {
   "cell_type": "code",
   "execution_count": 51,
   "id": "80606053",
   "metadata": {},
   "outputs": [],
   "source": [
    "#특정단어만 추출\n",
    "\n",
    "import os, re, codecs"
   ]
  },
  {
   "cell_type": "code",
   "execution_count": 52,
   "id": "67fd5887",
   "metadata": {},
   "outputs": [
    {
     "data": {
      "text/plain": [
       "'The One Where Monica Gets a New Roommate (The Pilot-The Uncut Version)\\nWritten by: Marta Kauffman & '"
      ]
     },
     "execution_count": 52,
     "metadata": {},
     "output_type": "execute_result"
    }
   ],
   "source": [
    "os.chdir(r'C:\\Users\\sunny\\Desktop\\python')\n",
    "f = open('friends101.txt', 'r', encoding = 'utf-8')\n",
    "f.read(100)"
   ]
  },
  {
   "cell_type": "code",
   "execution_count": 53,
   "id": "b3a11657",
   "metadata": {},
   "outputs": [
    {
     "data": {
      "text/plain": [
       "0"
      ]
     },
     "execution_count": 53,
     "metadata": {},
     "output_type": "execute_result"
    }
   ],
   "source": [
    "f.seek(0)"
   ]
  },
  {
   "cell_type": "code",
   "execution_count": 54,
   "id": "d557c6db",
   "metadata": {},
   "outputs": [
    {
     "data": {
      "text/plain": [
       "['The One Where Monica Gets a New Roommate (The Pilot-The Uncut Version)\\n',\n",
       " 'Written by: Marta Kauffman & David Crane\\n',\n",
       " 'Transcribed by: guineapig\\n']"
      ]
     },
     "execution_count": 54,
     "metadata": {},
     "output_type": "execute_result"
    }
   ],
   "source": [
    "#모든 문장을 원소로 하는 리스트 만들기\n",
    "sentences = f.readlines()\n",
    "sentences[:3]"
   ]
  },
  {
   "cell_type": "code",
   "execution_count": 55,
   "id": "d1fa781e",
   "metadata": {},
   "outputs": [
    {
     "name": "stdout",
     "output_type": "stream",
     "text": [
      "Monica: There's nothing to tell! He's just some guy I work with!\n",
      "\n",
      "Joey: C'mon, you're going out with the guy! There's gotta be something wrong with him!\n",
      "\n",
      "Chandler: All right Joey, be nice.  So does he have a hump? A hump and a hairpiece?\n",
      "\n",
      "Phoebe: Wait, does he eat chalk?\n",
      "\n",
      "Phoebe: Just, 'cause, I don't want her to go through what I went through with Carl- oh!\n",
      "\n"
     ]
    }
   ],
   "source": [
    "#대사 문장만 추출\n",
    "\n",
    "for i in sentences[:20]:\n",
    "    if re.match(r'[A-Z][a-z]+:', i):\n",
    "        print(i)"
   ]
  },
  {
   "cell_type": "code",
   "execution_count": 2,
   "id": "23dde1f1",
   "metadata": {},
   "outputs": [
    {
     "data": {
      "image/png": "[encoded data removed]",
      "text/plain": [
       "<Figure size 432x288 with 2 Axes>"
      ]
     },
     "metadata": {
      "needs_background": "light"
     },
     "output_type": "display_data"
    }
   ],
   "source": [
    "import matplotlib.pyplot as plt\n",
    "%matplotlib inline\n",
    "\n",
    "figure = plt.figure()\n",
    "axes1 = figure.add_subplot(121) #1행 2열에서 1열\n",
    "axes2 = figure.add_subplot(122) #1행 2열에서 2열\n",
    "\n",
    "plt.show()"
   ]
  },
  {
   "cell_type": "code",
   "execution_count": 13,
   "id": "3fd47143",
   "metadata": {},
   "outputs": [
    {
     "data": {
      "image/png": "[encoded data removed]",
      "text/plain": [
       "<Figure size 432x288 with 4 Axes>"
      ]
     },
     "metadata": {
      "needs_background": "light"
     },
     "output_type": "display_data"
    }
   ],
   "source": [
    "#add_subplot(''특정위치), 특정위치에 그래프 생성\n",
    "figure = plt.figure()\n",
    "axes1 = figure.add_subplot(2,2,1) #1행 2열에서 1열\n",
    "axes2 = figure.add_subplot(2,2,2) #1행 2열에서 2열\n",
    "axes3 = figure.add_subplot(2,2,3) \n",
    "axes4= figure.add_subplot(2,2,4) \n",
    "\n",
    "x = [0,2,4,6]\n",
    "y = [0,4,0,2]\n",
    "x2 = [1,2,3,4]\n",
    "y2 = [1,4,3,2]\n",
    "\n",
    "axes1.plot([0,2])\n",
    "axes2.plot([1,1], color = 'r', linestyle='dotted') #여러 옵션 추가\n",
    "axes3.plot(x, y, color = 'g', marker = 'o', linestyle = 'dashed')\n",
    "axes4.bar(x2,y2, color = 'b') #bar()\n",
    "\n",
    "plt.show()"
   ]
  },
  {
   "cell_type": "code",
   "execution_count": 15,
   "id": "30775d29",
   "metadata": {},
   "outputs": [
    {
     "data": {
      "image/png": "[encoded data removed]",
      "text/plain": [
       "<Figure size 432x288 with 2 Axes>"
      ]
     },
     "metadata": {
      "needs_background": "light"
     },
     "output_type": "display_data"
    }
   ],
   "source": [
    "figure = plt.figure()\n",
    "axes = figure.add_subplot(111)\n",
    "axes2 = axes.twinx()\n",
    "\n",
    "x = [1,2,3,4]\n",
    "y = [3,1,11,9]\n",
    "x2 = [1,2,3,4]\n",
    "y2 = [1,2,3,1]\n",
    "\n",
    "axes.bar(x,y, color = 'r', label = 'bar')\n",
    "axes2.plot(x2, y2, label = 'plot')\n",
    "\n",
    "axes.legend(loc=1)\n",
    "axes2.legend(loc=2)\n",
    "plt.show()\n"
   ]
  },
  {
   "cell_type": "code",
   "execution_count": 19,
   "id": "88d86313",
   "metadata": {},
   "outputs": [
    {
     "data": {
      "image/png": "[encoded data removed]",
      "text/plain": [
       "<Figure size 432x288 with 1 Axes>"
      ]
     },
     "metadata": {
      "needs_background": "light"
     },
     "output_type": "display_data"
    }
   ],
   "source": [
    "# scatter(), 산점도 그래프\n",
    "figure = plt.figure()\n",
    "axes = figure.add_subplot(111)\n",
    "\n",
    "x = [1,2,3,4,5,6]\n",
    "y = [6,4,1,2,8,2]\n",
    "x2 = [1,2,3,4,5,6]\n",
    "y2 = [2,3,4,5,6,7]\n",
    "\n",
    "axes.scatter(x,y)\n",
    "axes.scatter(x2, y2)\n",
    "\n",
    "plt.show()"
   ]
  },
  {
   "cell_type": "code",
   "execution_count": 22,
   "id": "7193e7ac",
   "metadata": {},
   "outputs": [
    {
     "data": {
      "image/png": "[encoded data removed]",
      "text/plain": [
       "<Figure size 216x216 with 1 Axes>"
      ]
     },
     "metadata": {},
     "output_type": "display_data"
    }
   ],
   "source": [
    "#pie() 원그래프 생성\n",
    "\n",
    "figure = plt.figure(figsize=(3,3))\n",
    "axes = figure.add_subplot(111)\n",
    "\n",
    "label = ['a', 'b', 'c']\n",
    "data = [30, 20, 50]\n",
    "\n",
    "axes.pie(data, labels = label)\n",
    "plt.show()"
   ]
  },
  {
   "cell_type": "code",
   "execution_count": 33,
   "id": "047f2ffa",
   "metadata": {},
   "outputs": [
    {
     "name": "stdout",
     "output_type": "stream",
     "text": [
      "      년도     총배출량     순배출량   1. 에너지  1. 에너지_A. 연료연소  1. 에너지_A. 연료연소_1. 에너지산업  \\\n",
      "0   1990  292.189  254.449  240.388         235.276                   48.445   \n",
      "1   1991  315.465  281.995  258.229         253.670                   54.906   \n",
      "2   1992  343.514  311.018  279.137         275.348                   62.517   \n",
      "3   1993  378.653  347.952  308.646         305.486                   68.911   \n",
      "4   1994  404.016  371.168  327.968         325.235                   83.784   \n",
      "5   1995  435.900  405.014  352.159         349.771                   91.880   \n",
      "6   1996  471.503  437.215  385.843         383.446                  109.200   \n",
      "7   1997  502.918  463.964  411.860         409.384                  122.568   \n",
      "8   1998  431.792  384.289  351.645         349.294                  106.447   \n",
      "9   1999  469.738  414.473  382.282         379.746                  116.320   \n",
      "10  2000  503.088  444.791  411.789         409.119                  136.328   \n",
      "11  2001  516.654  458.936  426.153         423.450                  147.702   \n",
      "12  2002  538.702  483.240  445.493         442.780                  156.002   \n",
      "13  2003  549.145  494.223  453.205         450.420                  160.234   \n",
      "14  2004  557.377  501.270  460.338         457.277                  173.116   \n",
      "15  2005  561.769  507.734  468.869         465.759                  179.277   \n",
      "16  2006  567.009  511.933  475.128         471.906                  187.699   \n",
      "17  2007  580.711  524.906  492.769         489.330                  198.670   \n",
      "18  2008  592.195  535.474  506.420         502.935                  211.750   \n",
      "19  2009  597.950  541.622  513.050         509.766                  230.634   \n",
      "20  2010  657.614  603.765  566.120         562.310                  256.110   \n",
      "21  2011  684.236  630.666  594.964         590.892                  263.689   \n",
      "22  2012  687.473  638.916  596.308         591.927                  267.703   \n",
      "23  2013  696.969  652.810  605.128         600.634                  274.096   \n",
      "24  2014  691.462  649.285  597.493         593.380                  259.313   \n",
      "25  2015  692.331  649.937  600.841         597.047                  261.570   \n",
      "26  2016  692.573  648.712  602.746         598.812                  263.388   \n",
      "27  2017  709.139  667.588  615.848         611.832                  270.674   \n",
      "\n",
      "    1. 에너지_A. 연료연소_1. 에너지산업_a. 공공전기 및 열 생산  1. 에너지_A. 연료연소_1. 에너지산업_b. 석유정제  \\\n",
      "0                                   36.666                           11.315   \n",
      "1                                   42.798                           11.605   \n",
      "2                                   50.252                           11.670   \n",
      "3                                   56.484                           11.886   \n",
      "4                                   71.188                           11.954   \n",
      "5                                   78.883                           12.367   \n",
      "6                                   95.538                           12.839   \n",
      "7                                  107.537                           13.283   \n",
      "8                                   91.266                           13.244   \n",
      "9                                  100.774                           13.678   \n",
      "10                                 120.419                           13.790   \n",
      "11                                 131.621                           13.724   \n",
      "12                                 141.067                           13.503   \n",
      "13                                 145.114                           13.278   \n",
      "14                                 156.761                           13.348   \n",
      "15                                 163.180                           13.583   \n",
      "16                                 171.905                           13.739   \n",
      "17                                 182.733                           13.964   \n",
      "18                                 194.030                           15.529   \n",
      "19                                 213.604                           14.626   \n",
      "20                                 240.601                           13.035   \n",
      "21                                 247.394                           14.056   \n",
      "22                                 250.777                           14.658   \n",
      "23                                 257.259                           14.592   \n",
      "24                                 242.558                           14.889   \n",
      "25                                 243.176                           16.573   \n",
      "26                                 243.766                           17.916   \n",
      "27                                 252.321                           15.848   \n",
      "\n",
      "    1. 에너지_A. 연료연소_1. 에너지산업_c. 고체연료 제조 및 기타 에너지 산업  \\\n",
      "0                                            0.463   \n",
      "1                                            0.502   \n",
      "2                                            0.595   \n",
      "3                                            0.542   \n",
      "4                                            0.642   \n",
      "5                                            0.630   \n",
      "6                                            0.823   \n",
      "7                                            1.748   \n",
      "8                                            1.938   \n",
      "9                                            1.867   \n",
      "10                                           2.118   \n",
      "11                                           2.357   \n",
      "12                                           1.432   \n",
      "13                                           1.842   \n",
      "14                                           3.007   \n",
      "15                                           2.514   \n",
      "16                                           2.055   \n",
      "17                                           1.973   \n",
      "18                                           2.191   \n",
      "19                                           2.405   \n",
      "20                                           2.475   \n",
      "21                                           2.239   \n",
      "22                                           2.268   \n",
      "23                                           2.244   \n",
      "24                                           1.866   \n",
      "25                                           1.821   \n",
      "26                                           1.706   \n",
      "27                                           2.505   \n",
      "\n",
      "    1. 에너지_A. 연료연소_2. 제조업 및 건설업  ...  5. LULUCF_E. 정주지  6. 폐기물  \\\n",
      "0                        76.558  ...               NE   10.375   \n",
      "1                        88.000  ...               NE   11.632   \n",
      "2                        97.959  ...               NE   12.739   \n",
      "3                       108.051  ...               NE   13.487   \n",
      "4                       112.788  ...               NE   14.402   \n",
      "5                       115.810  ...               NE   15.727   \n",
      "6                       124.051  ...               NE   16.511   \n",
      "7                       129.602  ...               NE   17.243   \n",
      "8                       120.271  ...               NE   16.043   \n",
      "9                       125.755  ...               NE   16.851   \n",
      "10                      130.645  ...               NE   18.819   \n",
      "11                      131.298  ...               NE   19.711   \n",
      "12                      137.370  ...               NE   18.660   \n",
      "13                      139.701  ...               NE   18.757   \n",
      "14                      137.412  ...               NE   17.663   \n",
      "15                      137.117  ...               NE   16.695   \n",
      "16                      137.893  ...               NE   17.011   \n",
      "17                      143.198  ...               NE   15.646   \n",
      "18                      148.115  ...               NE   15.445   \n",
      "19                      137.491  ...               NE   15.384   \n",
      "20                      162.000  ...               NE   15.039   \n",
      "21                      183.794  ...               NE   15.472   \n",
      "22                      179.728  ...               NE   15.732   \n",
      "23                      181.387  ...               NE   15.875   \n",
      "24                      193.291  ...               NE   15.369   \n",
      "25                      187.784  ...               NE   16.312   \n",
      "26                      181.492  ...               NE   16.489   \n",
      "27                      186.629  ...               NE   16.824   \n",
      "\n",
      "    6. 폐기물_A. 폐기물매립  6. 폐기물_A. 폐기물매립_1. 관리형 매립  6. 폐기물_A. 폐기물매립_2. 비관리형 매립  \\\n",
      "0             7.492                      5.347                       2.145   \n",
      "1             8.203                      5.957                       2.247   \n",
      "2             8.745                      6.497                       2.248   \n",
      "3             9.160                      6.973                       2.187   \n",
      "4             9.552                      7.392                       2.160   \n",
      "5             9.796                      7.690                       2.105   \n",
      "6            10.099                      8.057                       2.042   \n",
      "7            10.436                      8.442                       1.993   \n",
      "8             9.548                      7.607                       1.940   \n",
      "9             9.520                      7.651                       1.869   \n",
      "10            9.543                      7.750                       1.793   \n",
      "11            9.985                      8.278                       1.708   \n",
      "12            9.982                      8.357                       1.625   \n",
      "13           10.071                      8.525                       1.547   \n",
      "14            9.013                      7.542                       1.471   \n",
      "15            8.876                      7.476                       1.400   \n",
      "16            8.614                      7.283                       1.331   \n",
      "17            7.972                      6.706                       1.266   \n",
      "18            7.857                      6.652                       1.205   \n",
      "19            7.934                      6.788                       1.146   \n",
      "20            7.755                      6.665                       1.090   \n",
      "21            7.610                      6.573                       1.037   \n",
      "22            7.250                      6.264                       0.986   \n",
      "23            7.184                      6.246                       0.938   \n",
      "24            7.335                      6.443                       0.892   \n",
      "25            7.727                      6.879                       0.849   \n",
      "26            7.598                      6.791                       0.807   \n",
      "27            7.875                      7.106                       0.768   \n",
      "\n",
      "    6. 폐기물_B. 하폐수처리  6. 폐기물_B. 하폐수처리_1. 폐수처리  6. 폐기물_B. 하폐수처리_2. 하수처리  \\\n",
      "0             1.454                    0.063                    1.391   \n",
      "1             1.508                    0.081                    1.427   \n",
      "2             1.612                    0.105                    1.506   \n",
      "3             1.426                    0.115                    1.310   \n",
      "4             1.770                    0.135                    1.635   \n",
      "5             1.756                    0.150                    1.607   \n",
      "6             1.678                    0.089                    1.588   \n",
      "7             1.550                    0.084                    1.467   \n",
      "8             1.577                    0.077                    1.500   \n",
      "9             1.549                    0.077                    1.472   \n",
      "10            1.533                    0.077                    1.456   \n",
      "11            1.549                    0.079                    1.470   \n",
      "12            1.586                    0.084                    1.502   \n",
      "13            1.528                    0.085                    1.443   \n",
      "14            1.498                    0.084                    1.415   \n",
      "15            1.580                    0.078                    1.502   \n",
      "16            1.479                    0.086                    1.393   \n",
      "17            1.424                    0.070                    1.354   \n",
      "18            1.391                    0.078                    1.313   \n",
      "19            1.401                    0.069                    1.333   \n",
      "20            1.483                    0.086                    1.397   \n",
      "21            1.469                    0.065                    1.404   \n",
      "22            1.450                    0.068                    1.382   \n",
      "23            1.422                    0.061                    1.361   \n",
      "24            1.414                    0.064                    1.350   \n",
      "25            1.430                    0.061                    1.368   \n",
      "26            1.423                    0.070                    1.353   \n",
      "27            1.415                    0.076                    1.338   \n",
      "\n",
      "    6. 폐기물_C. 폐기물소각  6. 폐기물_D. 기타  \n",
      "0             1.429           NA   \n",
      "1             1.920           NA   \n",
      "2             2.382           NA   \n",
      "3             2.902           NA   \n",
      "4             3.066         0.014  \n",
      "5             4.173         0.002  \n",
      "6             4.729         0.005  \n",
      "7             5.241         0.016  \n",
      "8             4.904         0.015  \n",
      "9             5.728         0.054  \n",
      "10            7.636         0.106  \n",
      "11            8.071         0.105  \n",
      "12            6.934         0.157  \n",
      "13            7.000         0.158  \n",
      "14            6.987         0.164  \n",
      "15            6.001         0.238  \n",
      "16            6.631         0.287  \n",
      "17            5.945         0.305  \n",
      "18            5.882         0.315  \n",
      "19            5.713         0.336  \n",
      "20            5.643         0.158  \n",
      "21            6.201         0.192  \n",
      "22            6.844         0.188  \n",
      "23            6.986         0.282  \n",
      "24            6.340         0.279  \n",
      "25            6.874         0.281  \n",
      "26            7.146         0.322  \n",
      "27            7.178         0.357  \n",
      "\n",
      "[28 rows x 131 columns]\n"
     ]
    }
   ],
   "source": [
    "#연도별 온실가스 배출량 시각화\n",
    "import os\n",
    "import pandas as pd\n",
    "data = pd.read_csv('test_data.csv')\n",
    "print(data)"
   ]
  },
  {
   "cell_type": "code",
   "execution_count": 35,
   "id": "c943a03e",
   "metadata": {},
   "outputs": [
    {
     "name": "stdout",
     "output_type": "stream",
     "text": [
      "0     1990\n",
      "1     1991\n",
      "2     1992\n",
      "3     1993\n",
      "4     1994\n",
      "5     1995\n",
      "6     1996\n",
      "7     1997\n",
      "8     1998\n",
      "9     1999\n",
      "10    2000\n",
      "11    2001\n",
      "12    2002\n",
      "13    2003\n",
      "14    2004\n",
      "15    2005\n",
      "16    2006\n",
      "17    2007\n",
      "18    2008\n",
      "19    2009\n",
      "20    2010\n",
      "21    2011\n",
      "22    2012\n",
      "23    2013\n",
      "24    2014\n",
      "25    2015\n",
      "26    2016\n",
      "27    2017\n",
      "Name: 년도, dtype: int64\n"
     ]
    }
   ],
   "source": [
    "print(data['년도'])"
   ]
  },
  {
   "cell_type": "code",
   "execution_count": 36,
   "id": "b4d980ae",
   "metadata": {},
   "outputs": [
    {
     "name": "stdout",
     "output_type": "stream",
     "text": [
      "0     292.189\n",
      "1     315.465\n",
      "2     343.514\n",
      "3     378.653\n",
      "4     404.016\n",
      "5     435.900\n",
      "6     471.503\n",
      "7     502.918\n",
      "8     431.792\n",
      "9     469.738\n",
      "10    503.088\n",
      "11    516.654\n",
      "12    538.702\n",
      "13    549.145\n",
      "14    557.377\n",
      "15    561.769\n",
      "16    567.009\n",
      "17    580.711\n",
      "18    592.195\n",
      "19    597.950\n",
      "20    657.614\n",
      "21    684.236\n",
      "22    687.473\n",
      "23    696.969\n",
      "24    691.462\n",
      "25    692.331\n",
      "26    692.573\n",
      "27    709.139\n",
      "Name: 총배출량, dtype: float64\n"
     ]
    }
   ],
   "source": [
    "print(data['총배출량'])"
   ]
  },
  {
   "cell_type": "code",
   "execution_count": 44,
   "id": "0d0296a7",
   "metadata": {},
   "outputs": [
    {
     "data": {
      "image/png": "[encoded data removed]",
      "text/plain": [
       "<Figure size 432x288 with 1 Axes>"
      ]
     },
     "metadata": {
      "needs_background": "light"
     },
     "output_type": "display_data"
    }
   ],
   "source": [
    "figure = plt.figure()\n",
    "axes = figure.add_subplot(111)\n",
    "\n",
    "x = data['년도']\n",
    "y = data['총배출량']\n",
    "\n",
    "axes.bar(x,y)\n",
    "plt.title ('amount of year')\n",
    "plt.show()"
   ]
  },
  {
   "cell_type": "code",
   "execution_count": 47,
   "id": "b6ce14f5",
   "metadata": {},
   "outputs": [
    {
     "data": {
      "image/png": "[encoded data removed]",
      "text/plain": [
       "<Figure size 432x288 with 3 Axes>"
      ]
     },
     "metadata": {
      "needs_background": "light"
     },
     "output_type": "display_data"
    }
   ],
   "source": [
    "figure = plt.figure()\n",
    "axes = figure.add_subplot(111)\n",
    "axes2 = axes.twinx()\n",
    "axes3 = axes.twinx()\n",
    "\n",
    "x = data['년도']\n",
    "y = data['총배출량']\n",
    "y2 = data['순배출량']\n",
    "y3 = data['6. 폐기물']\n",
    "\n",
    "axes.bar(x,y)\n",
    "axes2.plot(x,y2, color = 'black', marker = 'o')\n",
    "axes3.plot(x,y3, color = 'green', marker = 'o', linestyle = 'dashed')\n",
    "\n",
    "plt.title ('amount of year')\n",
    "plt.show()"
   ]
  },
  {
   "cell_type": "code",
   "execution_count": 91,
   "id": "40c51304",
   "metadata": {},
   "outputs": [
    {
     "ename": "IndexError",
     "evalue": "list index out of range",
     "output_type": "error",
     "traceback": [
      "\u001b[1;31m---------------------------------------------------------------------------\u001b[0m",
      "\u001b[1;31mIndexError\u001b[0m                                Traceback (most recent call last)",
      "\u001b[1;32m<ipython-input-91-ad72d78fe1cf>\u001b[0m in \u001b[0;36m<module>\u001b[1;34m\u001b[0m\n\u001b[0;32m      9\u001b[0m     \u001b[0mtemp\u001b[0m \u001b[1;33m=\u001b[0m \u001b[1;33m[\u001b[0m\u001b[1;33m]\u001b[0m\u001b[1;33m\u001b[0m\u001b[1;33m\u001b[0m\u001b[0m\n\u001b[0;32m     10\u001b[0m     \u001b[1;32mfor\u001b[0m \u001b[0mj\u001b[0m \u001b[1;32min\u001b[0m \u001b[0mrange\u001b[0m\u001b[1;33m(\u001b[0m\u001b[1;36m1\u001b[0m\u001b[1;33m,\u001b[0m\u001b[0mlen\u001b[0m\u001b[1;33m(\u001b[0m\u001b[0mdata\u001b[0m\u001b[1;33m)\u001b[0m\u001b[1;33m)\u001b[0m\u001b[1;33m:\u001b[0m\u001b[1;33m\u001b[0m\u001b[1;33m\u001b[0m\u001b[0m\n\u001b[1;32m---> 11\u001b[1;33m         \u001b[0mtemp\u001b[0m\u001b[1;33m.\u001b[0m\u001b[0mappend\u001b[0m\u001b[1;33m(\u001b[0m\u001b[0mdata\u001b[0m\u001b[1;33m[\u001b[0m\u001b[0mj\u001b[0m\u001b[1;33m]\u001b[0m\u001b[1;33m.\u001b[0m\u001b[0msplit\u001b[0m\u001b[1;33m(\u001b[0m\u001b[1;34m'\\t'\u001b[0m\u001b[1;33m)\u001b[0m\u001b[1;33m[\u001b[0m\u001b[0mi\u001b[0m\u001b[1;33m]\u001b[0m\u001b[1;33m)\u001b[0m\u001b[1;33m\u001b[0m\u001b[1;33m\u001b[0m\u001b[0m\n\u001b[0m\u001b[0;32m     12\u001b[0m     \u001b[0mdic\u001b[0m\u001b[1;33m[\u001b[0m\u001b[0mtitle\u001b[0m\u001b[1;33m[\u001b[0m\u001b[0mi\u001b[0m\u001b[1;33m]\u001b[0m\u001b[1;33m]\u001b[0m \u001b[1;33m=\u001b[0m \u001b[0mtemp\u001b[0m\u001b[1;33m\u001b[0m\u001b[1;33m\u001b[0m\u001b[0m\n\u001b[0;32m     13\u001b[0m \u001b[0mprint\u001b[0m\u001b[1;33m(\u001b[0m\u001b[0mdic\u001b[0m\u001b[1;33m[\u001b[0m\u001b[1;34m'전체세대'\u001b[0m\u001b[1;33m]\u001b[0m\u001b[1;33m)\u001b[0m\u001b[1;33m\u001b[0m\u001b[1;33m\u001b[0m\u001b[0m\n",
      "\u001b[1;31mIndexError\u001b[0m: list index out of range"
     ]
    }
   ],
   "source": [
    "#서울시 세대원수 별 세대수 통계 데이터 시각화 실습\n",
    "\n",
    "f = open('report.txt', 'r', encoding = 'utf-8')\n",
    "data = f.read()\n",
    "data = data.split('\\n')\n",
    "dic = {}\n",
    "title = data[0].split('\\t')\n",
    "for i in range(len(title)):\n",
    "    temp = []\n",
    "    for j in range(1,len(data)):\n",
    "        temp.append(data[j].split('\\t')[i])\n",
    "    dic[title[i]] = temp\n",
    "print(dic['전체세대'])"
   ]
  },
  {
   "cell_type": "markdown",
   "id": "58d7bcd2",
   "metadata": {},
   "source": [
    "### K-최근접 알고리즘"
   ]
  },
  {
   "cell_type": "code",
   "execution_count": 95,
   "id": "053ff781",
   "metadata": {},
   "outputs": [],
   "source": [
    "import random\n",
    "import numpy as np\n",
    "\n",
    "r = [] #귤 1\n",
    "b = [] # 오렌지 0\n",
    "for i in range(50):\n",
    "    r.append([random.randint(1, 10), random.randint(50, 100), 1])\n",
    "    b.append([random.randint(7, 20), random.randint(80, 130), 0])"
   ]
  },
  {
   "cell_type": "code",
   "execution_count": 94,
   "id": "f0965d1d",
   "metadata": {},
   "outputs": [
    {
     "name": "stdout",
     "output_type": "stream",
     "text": [
      "Help on method randint in module random:\n",
      "\n",
      "randint(a, b) method of random.Random instance\n",
      "    Return random integer in range [a, b], including both end points.\n",
      "\n"
     ]
    }
   ],
   "source": [
    "help(random.randint)"
   ]
  },
  {
   "cell_type": "code",
   "execution_count": 96,
   "id": "c9b838cb",
   "metadata": {},
   "outputs": [
    {
     "name": "stdout",
     "output_type": "stream",
     "text": [
      "[[2, 76, 1], [10, 96, 1], [8, 81, 1], [6, 95, 1], [3, 98, 1], [9, 57, 1], [3, 60, 1], [4, 53, 1], [4, 52, 1], [7, 98, 1], [6, 82, 1], [9, 95, 1], [7, 51, 1], [9, 81, 1], [9, 54, 1], [9, 92, 1], [5, 89, 1], [1, 71, 1], [7, 50, 1], [2, 71, 1], [1, 71, 1], [5, 61, 1], [8, 64, 1], [2, 85, 1], [4, 69, 1], [5, 99, 1], [8, 85, 1], [5, 78, 1], [1, 73, 1], [9, 51, 1], [8, 59, 1], [8, 64, 1], [10, 52, 1], [10, 88, 1], [6, 64, 1], [10, 72, 1], [9, 93, 1], [9, 94, 1], [8, 85, 1], [9, 74, 1], [7, 50, 1], [9, 63, 1], [3, 55, 1], [2, 84, 1], [6, 86, 1], [5, 73, 1], [2, 69, 1], [6, 60, 1], [8, 69, 1], [6, 50, 1]]\n"
     ]
    }
   ],
   "source": [
    "print(r)"
   ]
  },
  {
   "cell_type": "code",
   "execution_count": 97,
   "id": "2bd430d8",
   "metadata": {},
   "outputs": [
    {
     "name": "stdout",
     "output_type": "stream",
     "text": [
      "[[18, 96, 0], [9, 91, 0], [11, 93, 0], [10, 121, 0], [8, 95, 0], [15, 128, 0], [9, 100, 0], [17, 125, 0], [16, 85, 0], [9, 123, 0], [15, 123, 0], [8, 120, 0], [16, 113, 0], [7, 85, 0], [7, 130, 0], [14, 110, 0], [11, 110, 0], [19, 110, 0], [14, 93, 0], [9, 118, 0], [18, 98, 0], [9, 122, 0], [11, 129, 0], [7, 101, 0], [15, 112, 0], [18, 115, 0], [20, 99, 0], [16, 87, 0], [14, 117, 0], [17, 99, 0], [9, 124, 0], [8, 99, 0], [19, 85, 0], [8, 97, 0], [7, 92, 0], [15, 87, 0], [10, 85, 0], [16, 123, 0], [10, 108, 0], [15, 115, 0], [10, 107, 0], [13, 87, 0], [17, 130, 0], [12, 109, 0], [7, 80, 0], [19, 129, 0], [7, 117, 0], [16, 129, 0], [8, 96, 0], [20, 100, 0]]\n"
     ]
    }
   ],
   "source": [
    "print(b)"
   ]
  },
  {
   "cell_type": "code",
   "execution_count": 101,
   "id": "9f4955e7",
   "metadata": {},
   "outputs": [],
   "source": [
    "def distance(x,y):\n",
    "    #두 점 사이의 거리를 구하는 함수\n",
    "    return np.sqrt(pow((x[0]-y[0]),2)+pow((x[1]-y[1]),2))"
   ]
  },
  {
   "cell_type": "code",
   "execution_count": 102,
   "id": "75d28cb6",
   "metadata": {},
   "outputs": [],
   "source": [
    "def knn(x,y,k):\n",
    "    result = []\n",
    "    cnt = 0\n",
    "    for i in range(len(y)):\n",
    "        result.append([distance(x,y[i]),y[i][2]])\n",
    "    result.sort()\n",
    "    for i in range(k):\n",
    "        if (result[i][1] ==1):\n",
    "            cnt +=1\n",
    "    if (cnt > (k/2)):\n",
    "        print('이것은 귤입니다.')\n",
    "    else:\n",
    "        print('이것은 오렌지 입니다.')"
   ]
  },
  {
   "cell_type": "code",
   "execution_count": 103,
   "id": "8826f41a",
   "metadata": {},
   "outputs": [
    {
     "name": "stdout",
     "output_type": "stream",
     "text": [
      "무게를 입력해 주세요. 7\n",
      "크기를 입력해 주세요. 60\n",
      "k를 입력해 주세요. 3\n",
      "이것은 귤입니다.\n"
     ]
    }
   ],
   "source": [
    "weight = input(\"무게를 입력해 주세요. \")\n",
    "size = input(\"크기를 입력해 주세요. \")\n",
    "num = input(\"k를 입력해 주세요. \")\n",
    "new = [int(size), int(weight)]\n",
    "\n",
    "knn(new, r+b, int(num))"
   ]
  },
  {
   "cell_type": "code",
   "execution_count": null,
   "id": "44aa7f7a",
   "metadata": {},
   "outputs": [],
   "source": [
    "#k-평균 알고리즘\n",
    "\n"
   ]
  },
  {
   "cell_type": "code",
   "execution_count": null,
   "id": "13ef40f7",
   "metadata": {},
   "outputs": [],
   "source": []
  },
  {
   "cell_type": "code",
   "execution_count": null,
   "id": "056ec547",
   "metadata": {},
   "outputs": [],
   "source": []
  },
  {
   "cell_type": "code",
   "execution_count": null,
   "id": "c7ed1dca",
   "metadata": {},
   "outputs": [],
   "source": []
  },
  {
   "cell_type": "code",
   "execution_count": null,
   "id": "5814fa09",
   "metadata": {},
   "outputs": [],
   "source": []
  }
 ],
 "metadata": {
  "kernelspec": {
   "display_name": "Python 3",
   "language": "python",
   "name": "python3"
  },
  "language_info": {
   "codemirror_mode": {
    "name": "ipython",
    "version": 3
   },
   "file_extension": ".py",
   "mimetype": "text/x-python",
   "name": "python",
   "nbconvert_exporter": "python",
   "pygments_lexer": "ipython3",
   "version": "3.8.8"
  }
 },
 "nbformat": 4,
 "nbformat_minor": 5
}
